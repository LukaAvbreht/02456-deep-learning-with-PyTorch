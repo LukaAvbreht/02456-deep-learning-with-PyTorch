{
 "cells": [
  {
   "cell_type": "markdown",
   "metadata": {},
   "source": [
    "# Contents and why we need this lab\n",
    "\n",
    "This lab is about implementing neural networks yourself in NumPy before we start using other frameworks which hide some of the computation from you. It builds on the first lab where you derived the equations for neural network forward and backward propagation and gradient descent parameter updates."
   ]
  },
  {
   "cell_type": "markdown",
   "metadata": {},
   "source": [
    "# External sources of information\n",
    "\n",
    "1. Jupyter notebook. You can find more information about Jupyter notebooks [here](https://jupyter.org/). It will come as part of the [Anaconda](https://www.anaconda.com/) Python installation. \n",
    "2. [NumPy](https://numpy.org/). Part of Anaconda distribution. If you already know how to program most things about Python and NumPy can be found through Google search. \n"
   ]
  },
  {
   "cell_type": "markdown",
   "metadata": {},
   "source": [
    "# This notebook will follow the next steps:\n",
    "\n",
    "1. Data generation\n",
    "2. Initialization of parameters\n",
    "3. Definition of activation functions   \n",
    "4. A short explanation of numpy's einsum function\n",
    "5. Forward pass\n",
    "6. Backward pass (backward pass and finite differences)\n",
    "7. Training loop \n",
    "8. Testing your model\n",
    "9. Further extensions"
   ]
  },
  {
   "cell_type": "markdown",
   "metadata": {},
   "source": [
    "# Create an artificial dataset to play with\n",
    "\n",
    "We create a non-linear 1d regression task. The generator has support various noise levels and it creates train, validation and test sets. You can modify it yourself if you want more or less challenging tasks."
   ]
  },
  {
   "cell_type": "code",
   "execution_count": 2,
   "metadata": {},
   "outputs": [],
   "source": [
    "import numpy as np\n",
    "import matplotlib.pyplot as plt\n",
    "\n",
    "np.random.seed(42)"
   ]
  },
  {
   "cell_type": "code",
   "execution_count": 3,
   "metadata": {},
   "outputs": [],
   "source": [
    "def data_generator(noise=0.1, n_samples=300, D1=True):\n",
    "    # Create covariates and response variable\n",
    "    if D1:\n",
    "        X = np.linspace(-3, 3, num=n_samples).reshape(-1,1) # 1-D\n",
    "        np.random.shuffle(X)\n",
    "        y = np.random.normal((0.5*np.sin(X[:,0]*3) + X[:,0]), noise) # 1-D with trend\n",
    "    else:\n",
    "        X = np.random.multivariate_normal(np.zeros(3), noise*np.eye(3), size = n_samples) # 3-D\n",
    "        np.random.shuffle(X)    \n",
    "        y = np.sin(X[:,0]) - 5*(X[:,1]**2) + 0.5*X[:,2] # 3-D\n",
    "\n",
    "    # Stack them together vertically to split data set\n",
    "    data_set = np.vstack((X.T,y)).T\n",
    "    \n",
    "    train, validation, test = np.split(data_set, [int(0.35*n_samples), int(0.7*n_samples)], axis=0)\n",
    "    \n",
    "    # Standardization of the data, remember we do the standardization with the training set mean and standard deviation\n",
    "    train_mu = np.mean(train, axis=0)\n",
    "    train_sigma = np.std(train, axis=0)\n",
    "    \n",
    "    train = (train-train_mu)/train_sigma\n",
    "    validation = (validation-train_mu)/train_sigma\n",
    "    test = (test-train_mu)/train_sigma\n",
    "    \n",
    "    x_train, x_validation, x_test = train[:,:-1], validation[:,:-1], test[:,:-1]\n",
    "    y_train, y_validation, y_test = train[:,-1], validation[:,-1], test[:,-1]\n",
    "\n",
    "    return x_train, y_train,  x_validation, y_validation, x_test, y_test"
   ]
  },
  {
   "cell_type": "code",
   "execution_count": 4,
   "metadata": {},
   "outputs": [],
   "source": [
    "D1 = True\n",
    "x_train, y_train,  x_validation, y_validation, x_test, y_test = data_generator(noise=0.5, D1=D1)"
   ]
  },
  {
   "cell_type": "code",
   "execution_count": 5,
   "metadata": {},
   "outputs": [
    {
     "data": {
      "image/png": "[encoded data removed]",
      "text/plain": [
       "<Figure size 432x288 with 1 Axes>"
      ]
     },
     "metadata": {
      "needs_background": "light"
     },
     "output_type": "display_data"
    }
   ],
   "source": [
    "if D1:\n",
    "    plt.scatter(x_train[:,0], y_train);\n",
    "    plt.scatter(x_validation[:,0], y_validation);\n",
    "    plt.scatter(x_test[:,0], y_test);\n",
    "else:\n",
    "    plt.scatter(x_train[:,1], y_train);\n",
    "    plt.scatter(x_validation[:,1], y_validation);\n",
    "    plt.scatter(x_test[:,1], y_test);"
   ]
  },
  {
   "cell_type": "markdown",
   "metadata": {},
   "source": [
    "# Initialization"
   ]
  },
  {
   "cell_type": "markdown",
   "metadata": {},
   "source": [
    "The steps to create a feed forward neural network are the following:\n",
    "\n",
    "1. **Number of hidden layer and hidden units**. We have to define the number of hidden units in each layer. We are going to save these numbers in a list \"L\" that is going to start with our input dimensionality (the number of features in X) and is going to finish with our output dimensionality (the size of Y). Anything in between these values are going to be hidden layers and the number of hidden units in each hidden layer is defined by the researcher. Remember that for each unit in each layer (besides the first one, according to our list L) there is a bias term.\n",
    "2. **Activation functions** for each hidden layer. Each hidden layer in your list must have an activation function (it can also be the linear activation which is equivalent to identity function). The power of neural networks comes from non-linear activation functions that learn representations (features) from the data allowing us to learn from it. \n",
    "3. **Parameter initialization**. We will initialize the weights to have random values. This is done in practice by drawing pseudo random numbers from a Gaussian or uniform distribution. It turns out that for deeper models we have to be careful about how we scale the random numbers. This will be the topic of the exercise below. For now we will just use unit variance Gaussians.  \n",
    "\n",
    "Our initialization will work as follows: \n",
    "\n",
    "For each layer of the neural network defined in L, initialize a matrix of weights of size (units_in, units_out) from a random normal distribution [np.random.normal()](https://docs.scipy.org/doc/numpy-1.15.0/reference/generated/numpy.random.normal.html) and save them in a list called \"layers\". For each layer in our neural network, initialize a matrix of weights of size (1, units_out) as above and save them in a list called \"bias\". The function should return a tuple (layers, bias). The length of our lists must be len(L)-1."
   ]
  },
  {
   "cell_type": "code",
   "execution_count": 6,
   "metadata": {},
   "outputs": [],
   "source": [
    "# Initialize neural network:\n",
    "# the NN is a tuple with a list with weights and list with biases\n",
    "def init_NN(L):\n",
    "    \"\"\"\n",
    "    Function that initializes our feed-forward neural network. \n",
    "    Input: \n",
    "    L: list of integers. The first element must be equal to the number of features of x and the last element \n",
    "        must be the number of outputs in the network.\n",
    "    Output:\n",
    "    A tuple of:\n",
    "    weights: a list with randomly initialized weights of shape (in units, out units) each. The units are the ones we defined in L.\n",
    "        For example, if L = [2, 3, 4] layers must be a list with a first element of shape (2, 3) and a second elemtn of shape (3, 4). \n",
    "        The length of layers must be len(L)-1\n",
    "    biases: a list with randomly initialized biases of shape (1, out_units) each. For the example above, bias would be a list of length\n",
    "        2 with a first element of shape (1, 3) and a second element of shape (1, 4).\n",
    "    \"\"\"\n",
    "    weights = []\n",
    "    biases  = []\n",
    "    for i in range(len(L)-1):\n",
    "        weights.append(np.random.normal(loc=0.0, scale=1.0, size=[L[i],L[i+1]])) \n",
    "        biases.append(np.random.normal(loc=0.0, scale=1.0, size=[1, L[i+1]]))     \n",
    "        \n",
    "    return (weights, biases)\n",
    "\n",
    "# Initialize the unit test neural network:\n",
    "# Same steps as above but we will not initialize the weights randomly.\n",
    "def init_NN_UT(L):\n",
    "    weights = []\n",
    "    biases  = []\n",
    "    for i in range(len(L)-1):\n",
    "        weights.append(np.ones((L[i],L[i+1]))) \n",
    "        biases.append(np.ones((1, L[i+1])))     \n",
    "        \n",
    "    return (weights, biases)\n",
    "\n",
    "# Initializer the unit test neural network\n",
    "L_UT  = [3, 5, 1]\n",
    "NN_UT = init_NN_UT(L_UT)"
   ]
  },
  {
   "cell_type": "markdown",
   "metadata": {},
   "source": [
    "## Exercise a) Print all network parameters\n",
    "\n",
    "Make a function that prints all parameters (weights and biases) with information about in which layer the parameters are."
   ]
  },
  {
   "cell_type": "code",
   "execution_count": 7,
   "metadata": {},
   "outputs": [
    {
     "name": "stdout",
     "output_type": "stream",
     "text": [
      "Weights for layer 1\n",
      "array([[1., 1., 1., 1., 1.],\n",
      "       [1., 1., 1., 1., 1.],\n",
      "       [1., 1., 1., 1., 1.]])\n",
      "Biases for layer 1\n",
      "array([[1., 1., 1., 1., 1.]])\n",
      "\n",
      "Weights for layer 2\n",
      "array([[1.],\n",
      "       [1.],\n",
      "       [1.],\n",
      "       [1.],\n",
      "       [1.]])\n",
      "Biases for layer 2\n",
      "array([[1.]])\n",
      "\n"
     ]
    }
   ],
   "source": [
    "# Insert code here\n",
    "import pprint\n",
    "def print_parameters(W,B):\n",
    "    for j,i in enumerate(W):\n",
    "        print(\"Weights for layer {0}\".format(j+1))\n",
    "        pprint.pprint(i)\n",
    "        print(\"Biases for layer {0}\".format(j+1))\n",
    "        pprint.pprint(B[j])\n",
    "        print()\n",
    "        \n",
    "print_parameters(*NN_UT)"
   ]
  },
  {
   "cell_type": "markdown",
   "metadata": {},
   "source": [
    "# Advanced initialization schemes\n",
    "\n",
    "If we are not careful with initialization we can run into trouble with in both the forward and backward passes. We have random weights with random +/- sign so the signal we pass forward will also be random and zero on average. However, the absolute size of the signal may grow or shrink from layer to layer depending upon the absolute scale of random weights. A statistical analysis of this effect and the same effect for the backward pass are presented in these two papers: [Glorot initialization](http://proceedings.mlr.press/v9/glorot10a/glorot10a.pdf) and [He initialization](https://arxiv.org/pdf/1502.01852v1.pdf). \n",
    "\n",
    "The result of the analyses are proposals for how to make the initialization such that the variance of the signals (forward and backward) are kept constant when propagating layer to layer. The exact expressions depend upon the activation function used.\n",
    "\n",
    "We define $n_{in}$ and $n_{out}$ as the number of input units and output units of a particular layer. \n",
    "\n",
    "In the linked paper, Glorot and Bengio propose that for tanh activation functions the following two alternative initializations:\n",
    "\n",
    "$$w_{ij} \\sim U \\bigg[ -\\sqrt{\\frac{6}{(n_{in} + n_{out})}}, \\, \\sqrt{\\frac{6}{(n_{in} + n_{out})}} \\bigg]$$\n",
    "\n",
    "$$w_{ij} \\sim N \\bigg( 0, \\, \\frac{2}{(n_{in} + n_{out})} \\bigg) \\ . $$\n",
    "\n",
    "Here $U[a,b]$ is a uniform distribution in the interval $a$ to $b$ and $N(\\mu,\\sigma^2)$ is a Gaussian distribution with mean $\\mu$ and variance $\\sigma^2$.\n",
    "\n",
    "He et.al. proposes for Rectified Linear Unit activations (ReLU) the following initialization:\n",
    "\n",
    "$$w_{ij} \\sim U \\bigg[ -\\sqrt{\\frac{6}{n_{in}}}, \\, \\sqrt{\\frac{6}{n_{in}}} \\bigg]$$\n",
    "\n",
    "$$w_{ij} \\sim N \\bigg( 0, \\, \\frac{2}{n_{in}} \\bigg) \\ . $$"
   ]
  },
  {
   "cell_type": "markdown",
   "metadata": {},
   "source": [
    "## Exercise b) Glorot and He initialization\n",
    "\n",
    "Implement these initialization schemes by modifying the code given below.\n",
    "\n",
    "**NOTE:** The Gaussian is defined as $N( \\mu, \\, \\sigma^{2})$ but Numpy takes $\\sigma$ as argument.\n",
    "\n",
    "Explain briefly how you would test numerically that these initializations have the sought after property. Hint: See plots in Glorot paper."
   ]
  },
  {
   "cell_type": "code",
   "execution_count": 8,
   "metadata": {},
   "outputs": [],
   "source": [
    "## Glorot\n",
    "def init_NN_glorot_Tanh(L, uniform=False):\n",
    "    \"\"\"\n",
    "    Initializer using the glorot initialization scheme\n",
    "    \"\"\"\n",
    "    weights = []\n",
    "    biases  = []\n",
    "    for i in range(len(L)-1):\n",
    "        if uniform:\n",
    "            bound = (6/(L[i] + L[i+1]))**(0.5)\n",
    "            weights.append(np.random.uniform(low=-bound, high=bound, size=[L[i],L[i+1]])) \n",
    "            biases.append(np.random.uniform(low=-bound, high=bound, size=[1, L[i+1]]))  \n",
    "        else:\n",
    "            std = (2/(L[i] + L[i+1]))\n",
    "            weights.append(np.random.normal(loc=0.0, scale=std, size=[L[i],L[i+1]])) \n",
    "            biases.append(np.random.normal(loc=0.0, scale=std, size=[1, L[i+1]]))       \n",
    "        \n",
    "    return (weights, biases)\n",
    "\n",
    "## He\n",
    "def init_NN_he_ReLU(L, uniform=False):\n",
    "    \"\"\"\n",
    "    Initializer using the He initialization scheme\n",
    "    \"\"\"\n",
    "    weights = []\n",
    "    biases  = []\n",
    "    for i in range(len(L)-1):\n",
    "        if uniform:\n",
    "            bound = (6/(L[i]))**(0.5)\n",
    "            weights.append(np.random.uniform(low=-bound, high=bound, size=[L[i],L[i+1]])) \n",
    "            biases.append(np.random.uniform(low=-bound, high=bound, size=[1, L[i+1]]))  \n",
    "        else:\n",
    "            std = (2/L[i])\n",
    "            weights.append(np.random.normal(loc=0.0, scale=std, size=[L[i],L[i+1]])) \n",
    "            biases.append(np.random.normal(loc=0.0, scale=std, size=[1, L[i+1]]))       \n",
    "        \n",
    "    return (weights, biases)"
   ]
  },
  {
   "cell_type": "markdown",
   "metadata": {},
   "source": [
    "# Activation functions\n",
    "\n",
    "To have a full definition of the neural network, we must define an activation function for every layer in our list L (again, exluding the first term, which is the number of input dimensions). Several activation functions have been proposed and have different characteristics. Here, we will implement the linear activation function (the identity function), the sigmoid activation function (squeeshes the outcome of each neuron into the $[0, 1]$ range), the Hyperbolic Tangent (Tanh) that squeeshes the outcome of each neuron to $[-1, 1]$ and the Rectified Linear Unit (ReLU). \n",
    "\n",
    "We will also include the derivative in the function. We need this in order to do our back-propagation algorithm. Don't rush, we will get there soon. For any neural network, save the activation functions in a list. This list must be of size len(L)-1."
   ]
  },
  {
   "cell_type": "markdown",
   "metadata": {},
   "source": [
    "## Linear activation"
   ]
  },
  {
   "cell_type": "code",
   "execution_count": 9,
   "metadata": {},
   "outputs": [],
   "source": [
    "def Linear(x, derivative=False):\n",
    "    \"\"\"\n",
    "    Computes the element-wise Linear activation function for an array x\n",
    "    inputs:\n",
    "    x: The array where the function is applied\n",
    "    derivative: if set to True will return the derivative instead of the forward pass\n",
    "    \"\"\"\n",
    "    \n",
    "    if derivative:              # Return the derivative of the function evaluated at x\n",
    "        return np.ones_like(x)\n",
    "    else:                       # Return the forward pass of the function at x\n",
    "        return x"
   ]
  },
  {
   "cell_type": "markdown",
   "metadata": {},
   "source": [
    "## Sigmoid activation"
   ]
  },
  {
   "cell_type": "code",
   "execution_count": 10,
   "metadata": {},
   "outputs": [],
   "source": [
    "def Sigmoid(x, derivative=False):\n",
    "    \"\"\"\n",
    "    Computes the element-wise Sigmoid activation function for an array x\n",
    "    inputs:\n",
    "    x: The array where the function is applied\n",
    "    derivative: if set to True will return the derivative instead of the forward pass\n",
    "    \"\"\"\n",
    "    f = 1/(1+np.exp(-x))\n",
    "    \n",
    "    if derivative:              # Return the derivative of the function evaluated at x\n",
    "        return f*(1-f)\n",
    "    else:                       # Return the forward pass of the function at x\n",
    "        return f"
   ]
  },
  {
   "cell_type": "markdown",
   "metadata": {},
   "source": [
    "## Hyperbolic Tangent activation"
   ]
  },
  {
   "cell_type": "code",
   "execution_count": 11,
   "metadata": {},
   "outputs": [],
   "source": [
    "def Tanh(x, derivative=False):\n",
    "    \"\"\"\n",
    "    Computes the element-wise Sigmoid activation function for an array x\n",
    "    inputs:\n",
    "    x: The array where the function is applied\n",
    "    derivative: if set to True will return the derivative instead of the forward pass\n",
    "    \"\"\"\n",
    "    f = (np.exp(x)-np.exp(-x))/(np.exp(x)+np.exp(-x))\n",
    "    \n",
    "    if derivative:              # Return the derivative of the function evaluated at x\n",
    "        return 1-f**2\n",
    "    else:                       # Return the forward pass of the function at x\n",
    "        return f"
   ]
  },
  {
   "cell_type": "markdown",
   "metadata": {},
   "source": [
    "## Rectifier linear unit (ReLU)"
   ]
  },
  {
   "cell_type": "code",
   "execution_count": 12,
   "metadata": {},
   "outputs": [],
   "source": [
    "def ReLU(x, derivative=False):\n",
    "    \"\"\"\n",
    "    Computes the element-wise Rectifier Linear Unit activation function for an array x\n",
    "    inputs:\n",
    "    x: The array where the function is applied\n",
    "    derivative: if set to True will return the derivative instead of the forward pass\n",
    "    \"\"\"\n",
    "    \n",
    "    if derivative:              # Return the derivative of the function evaluated at x\n",
    "        return (x>0).astype(int)\n",
    "    else:                       # Return the forward pass of the function at x\n",
    "        return np.maximum(x, 0)"
   ]
  },
  {
   "cell_type": "markdown",
   "metadata": {},
   "source": [
    "## Visualization"
   ]
  },
  {
   "cell_type": "markdown",
   "metadata": {},
   "source": [
    "Now that we have defined our activation functions we can visualize them to see what they look like:"
   ]
  },
  {
   "cell_type": "code",
   "execution_count": 13,
   "metadata": {},
   "outputs": [
    {
     "data": {
      "image/png": "[encoded data removed]",
      "text/plain": [
       "<Figure size 360x360 with 1 Axes>"
      ]
     },
     "metadata": {
      "needs_background": "light"
     },
     "output_type": "display_data"
    }
   ],
   "source": [
    "x = np.linspace(-6, 6, 100)\n",
    "units = {\n",
    "    \"Linear\": lambda x: Linear(x),\n",
    "    \"Sigmoid\": lambda x: Sigmoid(x),\n",
    "    \"ReLU\": lambda x: ReLU(x),\n",
    "    \"tanh\": lambda x: Tanh(x)\n",
    "}\n",
    "\n",
    "plt.figure(figsize=(5, 5))\n",
    "[plt.plot(x, unit(x), label=unit_name, lw=2) for unit_name, unit in units.items()]\n",
    "plt.legend(loc=2, fontsize=16)\n",
    "plt.title('Our activation functions', fontsize=20)\n",
    "plt.ylim([-2, 5])\n",
    "plt.xlim([-6, 6])\n",
    "plt.show()"
   ]
  },
  {
   "cell_type": "markdown",
   "metadata": {},
   "source": [
    "## Exercise c) Glorot initialization for all activation functions\n",
    "\n",
    "Implement a function by adding to the code snippet below that can take network L and list of activations function as argument and return a Glorot initialized network.  Hint: [This blog post](https://mmuratarat.github.io/2019-02-25/xavier-glorot-he-weight-init) gives a table for the activation functions we use here.\n",
    "\n",
    "Briefly explain in words how these how these values are calculated."
   ]
  },
  {
   "cell_type": "code",
   "execution_count": 14,
   "metadata": {},
   "outputs": [
    {
     "name": "stdout",
     "output_type": "stream",
     "text": [
      "Weights for layer 1\n",
      "array([[-0.09345256, -0.02389544, -0.53063132, -0.32718667, -0.38661249],\n",
      "       [-0.17539462,  0.10911137,  0.45528206,  0.5276655 ,  0.32681713],\n",
      "       [-0.43698706, -0.00164796,  1.1871647 ,  0.50726635, -0.22025228]])\n",
      "Biases for layer 1\n",
      "array([[ 0.79101909, -0.19403459, -0.33420098,  0.69786597, -0.65482465]])\n",
      "\n",
      "Weights for layer 2\n",
      "array([[-0.63792586],\n",
      "       [ 0.31376153],\n",
      "       [ 0.00923031],\n",
      "       [ 0.04245516],\n",
      "       [-0.12047428]])\n",
      "Biases for layer 2\n",
      "array([[-0.07949779]])\n",
      "\n"
     ]
    }
   ],
   "source": [
    "def init_NN_glorot(L, activations, uniform=False):\n",
    "    \"\"\"\n",
    "    Initializer using the glorot initialization scheme\n",
    "    \"\"\"\n",
    "    weights = []\n",
    "    biases  = []\n",
    "    for i in range(len(L)-1):\n",
    "        if uniform:\n",
    "            if activations[i] == Linear:\n",
    "                bound = (6/(L[i] + L[i+1]))**(0.5)\n",
    "            elif activations[i] == Sigmoid:\n",
    "                bound = 4*(6/(L[i] + L[i+1]))**(0.5)\n",
    "            elif activations[i] == ReLU:\n",
    "                bound = 2**(0.5)*(6/(L[i] + L[i+1]))**(0.5)\n",
    "            elif activations[i] == Tanh:\n",
    "                bound = (6/(L[i] + L[i+1]))**(0.5)\n",
    "            else:\n",
    "                raise \"Unknow function in activations\"\n",
    "            curr_weights = np.random.uniform(low=-bound, high=bound, size=[L[i],L[i+1]])\n",
    "            curr_biases = np.random.uniform(low=-bound, high=bound, size=[1, L[i+1]])\n",
    "            weights.append(curr_weights) \n",
    "            biases.append(curr_biases)  \n",
    "        else:\n",
    "            if activations[i] == Linear:\n",
    "                std = (2/(L[i] + L[i+1]))\n",
    "            elif activations[i] == Sigmoid:\n",
    "                std = 16*(2/(L[i] + L[i+1]))\n",
    "            elif activations[i] == ReLU:\n",
    "                std = 2*(2/(L[i] + L[i+1]))\n",
    "            elif activations[i] == Tanh:\n",
    "                std = (2/(L[i] + L[i+1]))\n",
    "            else:\n",
    "                raise \"Unknow function in activations\"\n",
    "            curr_weights = np.random.normal(loc=0.0, scale=std, size=[L[i],L[i+1]])\n",
    "            curr_biases = np.random.normal(loc=0.0, scale=std, size=[1, L[i+1]])\n",
    "            weights.append(curr_weights) \n",
    "            biases.append(curr_biases)       \n",
    "        \n",
    "    return (weights, biases)\n",
    "        \n",
    "\n",
    "# Initializes the unit test neural network\n",
    "L_UT  = [3, 5, 1]\n",
    "ACT_UT = [ReLU, Tanh]\n",
    "NN_glorot = init_NN_glorot(L_UT, ACT_UT)\n",
    "print_parameters(*NN_glorot)"
   ]
  },
  {
   "cell_type": "markdown",
   "metadata": {},
   "source": [
    "# Numpy einsum (EINstein SUMmation)"
   ]
  },
  {
   "cell_type": "markdown",
   "metadata": {},
   "source": [
    "[Einsum](https://docs.scipy.org/doc/numpy/reference/generated/numpy.einsum.html) gives us the possibility to compute almost any matrix operation in a single function. You can find a good description in the link above. Here are a few examples of some important uses:\n",
    "\n",
    "**Transpose:** We can write the transpose of matrix $A$:\n",
    "\n",
    "```\n",
    "np.einsum('ij -> ji', A) \n",
    "```\n",
    "\n",
    "**Trace:** We can write the trace of matrix $A$:\n",
    "\n",
    "```\n",
    "np.einsum('ii -> ', A) \n",
    "```\n",
    "\n",
    "**Diagonal:** We can write the diagonal of matrix $A$:\n",
    "\n",
    "```\n",
    "np.einsum('ii -> i', A) \n",
    "```\n",
    " \n",
    "**Matrix product:** We can write the multiplication of matrices $A$ and $B$ as:\n",
    "\n",
    "```\n",
    "np.einsum('ij, jk -> ik', A, B)\n",
    "```\n",
    "\n",
    "Note that $j$ in both matrices $A$ and $B$ should be the same size. \n",
    "\n",
    "**Batched matrix product (or why bothering):** All of the functions we performed above are built in numpy (np.tranpose, np.trace, np.matmul), however, when you want to do more complex operations, it might become less readable and computationaly efficient. Let's introduce a three dimensional matrix $H$ with indices $b,j,k$, where the first dimension is the batch (training example) dimension. In einsum, we can then write:\n",
    "\n",
    "```\n",
    "np.einsum('ij, bjk -> bik', A, H)\n",
    "```\n",
    "\n",
    "In order to perform a batched matrix multiplication where we multiple over the second dimension in the first marix and second dimension in the second matrix. The result is a new three dimensional matrix where the first dimension is the first dimension from $H$ and second is the first dimension from $A$ and last dimension the last dimension from $H$. This is a very simple one line (and readable) way to do matrix operations that will be very useful for neural network code. \n",
    "\n",
    "\n",
    "#### _**Tips and tricks when using einsum**_\n",
    "\n",
    "At the beginning, einsum might be a bit difficult to work with. The most important thing to do when using it is keeping track of the dimensions of your input and output matrices. An easy way to keep track of these dimensions is by using some sort of naming convention. Just like in the batched matrix product above we used $b$ to denote the batch dimension. In all the functions of this notebook, we leave some convention of names of indexes for the einsum in the explanation of the functions. We hope you find them useful!\n",
    "\n",
    "There are some other useful resources to understand numpy.einsum:\n",
    "\n",
    "* [Olexa Bilaniuk's great blogpost on einsum]( https://obilaniu6266h16.wordpress.com/2016/02/04/einstein-summation-in-numpy/ )\n",
    "* [Stackoverflow answer to: Understanding NumPy's einsum]( https://stackoverflow.com/q/26089893/8899404 )\n",
    "* [Jessica Stringham post on einsum]( https://jessicastringham.net/2018/01/01/einsum/ )\n",
    "* [Slides of einstein summation from oxford]( http://www-astro.physics.ox.ac.uk/~sr/lectures/vectors/lecture10final.pdfc )"
   ]
  },
  {
   "cell_type": "markdown",
   "metadata": {},
   "source": [
    "# Forward pass\n",
    "\n",
    "The forward pass has been implemented for you. Please note how we have used einsum to perform the affine tranformation."
   ]
  },
  {
   "cell_type": "code",
   "execution_count": 15,
   "metadata": {},
   "outputs": [],
   "source": [
    "def forward_pass(x, NN, activations):\n",
    "    \"\"\"\n",
    "    This function performs a forward pass recursively. It saves lists for both affine transforms of units (z) and activated units (a)\n",
    "    Input:\n",
    "    x: The input of the network             (np.array of shape: (batch_size, number_of_features))\n",
    "    NN: The initialized neural network      (tuple of list of matrices)\n",
    "    activations: the activations to be used (list of functions, same len as NN)\n",
    "\n",
    "    Output:\n",
    "    a: A list of affine transformations, that is, all x*w+b.\n",
    "    z: A list of activated units (ALL activated units including input and output).\n",
    "    \n",
    "    Shapes for the einsum:\n",
    "    b: batch size\n",
    "    i: size of the input hidden layer (layer l)\n",
    "    o: size of the output (layer l+1)\n",
    "    \"\"\"\n",
    "    z = [x]\n",
    "    a = []\n",
    "        \n",
    "    for l in range(len(NN[0])):\n",
    "        a.append(np.einsum('bi, io -> bo', z[l], NN[0][l]) + NN[1][l])  # The affine transform x*w+b\n",
    "        z.append(activations[l](a[l]))                                  # The non-linearity    \n",
    "    \n",
    "    return a, z"
   ]
  },
  {
   "cell_type": "markdown",
   "metadata": {},
   "source": [
    "# Forward pass unit test\n",
    "\n",
    "Below is a piece of code that takes a very particular setting of the network and inputs and test whether it gives the expected results."
   ]
  },
  {
   "cell_type": "code",
   "execution_count": 16,
   "metadata": {},
   "outputs": [],
   "source": [
    "ACT_F_UT = [Linear, Linear]\n",
    "test_a, test_z = forward_pass(np.array([[1,1,1]]), NN_UT, ACT_F_UT) # input has shape (1, 3) 1 batch, 3 features\n",
    "\n",
    "# Checking shapes consistency\n",
    "assert np.all(test_z[0]==np.array([1,1,1])) # Are the input vector and the first units the same?\n",
    "assert np.all(test_z[1]==test_a[0])         # Are the first affine transformations and hidden units the same?\n",
    "assert np.all(test_z[2]==test_a[1])         # Are the output units and the affine transformations the same?\n",
    "\n",
    "# Checking correctnes of values\n",
    "# First layer, calculate np.sum(np.array([1,1,1])*np.array([1,1,1]))+1 = 4\n",
    "assert np.all(test_z[1] == 4.)\n",
    "# Second layer, calculate np.sum(np.array([4,4,4,4,4])*np.array([1,1,1,1,1]))+1 = 21\n",
    "assert np.all(test_z[2] == 21.)"
   ]
  },
  {
   "cell_type": "markdown",
   "metadata": {},
   "source": [
    "# Loss functions"
   ]
  },
  {
   "cell_type": "markdown",
   "metadata": {},
   "source": [
    "In order to perform a backward pass we need to define a loss function and its derivative with respect to the output of the neural network $y$"
   ]
  },
  {
   "cell_type": "code",
   "execution_count": 17,
   "metadata": {},
   "outputs": [],
   "source": [
    "def squared_error(t, y, derivative=False):\n",
    "    \"\"\"\n",
    "    Computes the squared error function and its derivative \n",
    "    Input:\n",
    "    t:      target (expected output)          (np.array)\n",
    "    y:      output from forward pass (np.array, must be the same shape as t)\n",
    "    derivative: whether to return the derivative with respect to y or return the loss (boolean)\n",
    "    \"\"\"\n",
    "    if np.shape(t)!=np.shape(y):\n",
    "        print(\"t and y have different shapes\")\n",
    "    if derivative: # Return the derivative of the function\n",
    "        return (y-t)\n",
    "    else:\n",
    "        return 0.5*(y-t)**2"
   ]
  },
  {
   "cell_type": "markdown",
   "metadata": {},
   "source": [
    "## Exercise d) Implement cross entropy loss\n",
    "\n",
    "Insert code below to implement cross-entropy loss for general dimensionality of $t$."
   ]
  },
  {
   "cell_type": "code",
   "execution_count": 18,
   "metadata": {},
   "outputs": [
    {
     "name": "stdout",
     "output_type": "stream",
     "text": [
      "[0 1 2 3]\n",
      "[-1  0  0 -2]\n",
      "[1 0 0 2]\n",
      "[0 1 2 3] [0.         0.         0.69314718 1.60943791]\n",
      "[[1. 1. 1. 1.]\n",
      " [1. 1. 1. 1.]\n",
      " [1. 1. 9. 1.]]\n",
      "[[1. 1. 1. 1.]\n",
      " [1. 1. 1. 1.]\n",
      " [1. 1. 9. 1.]]\n",
      "[[ 1.  1.  1.  1.]\n",
      " [ 1.  1.  1.  1.]\n",
      " [ 1.  1. 81.  1.]]\n"
     ]
    }
   ],
   "source": [
    "x1 = np.arange(4)\n",
    "x2 = np.arange(4)\n",
    "print(x1)\n",
    "x2[3] = 5\n",
    "x2[0] = 1\n",
    "print(np.subtract(x1, x2))\n",
    "print(np.abs(np.subtract(x1, x2)))\n",
    "print(x1,np.log(x2))\n",
    "np.dot(x1,np.log(x2))\n",
    "-np.dot(x1,1/x2)\n",
    "\n",
    "nx = np.ones((3,4))\n",
    "ny = np.ones((3,4))\n",
    "ny[2,2] = 9\n",
    "nx[2,2] = 9\n",
    "print(nx)\n",
    "print(ny)\n",
    "\n",
    "print(np.einsum('bo, bo -> bo',nx,ny))"
   ]
  },
  {
   "cell_type": "code",
   "execution_count": 19,
   "metadata": {},
   "outputs": [],
   "source": [
    "def cross_entropy_loss(t, y, derivative=False):\n",
    "    \"\"\"\n",
    "    Computes the cross entropy loss function and its derivative \n",
    "    Input:\n",
    "    t:      target (expected output)          (np.array)\n",
    "    y:      output from forward pass (np.array, must be the same shape as t)\n",
    "    derivative: whether to return the derivative with respect to y or return the loss (boolean)\n",
    "    \"\"\"\n",
    "    if derivative:\n",
    "        return -np.dot(t,1/y)\n",
    "    else:\n",
    "        return -np.dot(t,np.log(y))\n"
   ]
  },
  {
   "cell_type": "markdown",
   "metadata": {},
   "source": [
    "# Backward pass "
   ]
  },
  {
   "cell_type": "markdown",
   "metadata": {},
   "source": [
    "## Exercise e) Complete code for backward pass\n",
    "\n",
    "Below is a implementation of the backward pass with some lines removed. Insert the missing lines."
   ]
  },
  {
   "cell_type": "code",
   "execution_count": 20,
   "metadata": {},
   "outputs": [],
   "source": [
    "def backward_pass(x, t, y, z, a, NN, activations, loss):\n",
    "    \"\"\"\n",
    "    This function performs a backward pass ITERATIVELY. It saves lists all of the derivatives in the process\n",
    "    \n",
    "    Input:\n",
    "    x:           The input used for the batch                (np.array)\n",
    "    t:           The observed targets                        (np.array, the first dimension must be the same to x)\n",
    "    y:           The output of the forward_pass of NN for x  (np.array, must have the same shape as t)\n",
    "    z:           The activated units from the forward_pass   (np.array)\n",
    "    a:           The affine transforms from the forward_pass (np.array)\n",
    "    activations: The activations to be used                  (list of functions)\n",
    "    loss:        The loss function to be used                (one function)\n",
    "    \n",
    "    Output:\n",
    "    g_w: A list of gradients for every hidden unit \n",
    "    g_b: A list of gradients for every bias\n",
    "    \n",
    "    Shapes for the einsum:\n",
    "    b: batch size\n",
    "    i: size of the input hidden layer (layer l)\n",
    "    o: size of the output (layer l+1)\n",
    "    \"\"\"\n",
    "    BS = x.shape[0] # Implied batch shape \n",
    "    \n",
    "    # First, let's compute the list of derivatives of z with respect to a \n",
    "    d_a = []\n",
    "    for i in range(len(activations)):\n",
    "        d_a.append(activations[i](a[i], derivative=True))\n",
    "    \n",
    "    # Second, let's compute the derivative of the loss function\n",
    "    t = t.reshape(BS, -1)\n",
    "    \n",
    "    d_loss = loss(t,y,derivative=True) \n",
    "    \n",
    "     \n",
    "    # Third, let's compute the derivative of the biases and the weights\n",
    "    g_w   = [] # List to save the gradient of the weights\n",
    "    g_b   = [] # List to save the gradients of the biases\n",
    "\n",
    "    delta = np.einsum('bo, bo -> bo', d_loss, d_a[-1])# loss shape: (b, o); pre-activation units shape: (b, o) hadamard product\n",
    "\n",
    "    g_b.append(np.mean(delta, axis=0))\n",
    "    g_w.append(np.mean(np.einsum('bo, bi -> bio', delta, z[-2]), axis=0)) # delta shape: (b, o), activations shape: (b, h) \n",
    "\n",
    "    for l in range(1, len(NN[0])):\n",
    "        d_C_d_z = np.einsum('bo, io -> bi', delta, NN[0][-l])  # Derivative of the Cost with respect to an activated layer d_C_d_z. \n",
    "                                                               #  delta shape: as above; weights shape: (i, o)\n",
    "                                                               # Delta: d_C_d_z (element-wise mult) derivative of the activation layers\n",
    "                                                               #  delta shape: as above; d_z shape: (b, i)  \n",
    "        \n",
    "        delta = np.einsum('bo, bo -> bo', d_C_d_z, d_a[-l-1])\n",
    "                                                                \n",
    "        g_b.append(np.mean(delta, axis=0)) \n",
    "        g_w.append(np.mean(np.einsum('bo, bi -> bio', delta, z[-l-2]), axis=0)) # Derivative of cost with respect to weights in layer l:\n",
    "                                                                                # delta shape: as above; activations of l-1 shape: (b, i)\n",
    "    \n",
    "    return g_b[::-1], g_w[::-1]"
   ]
  },
  {
   "cell_type": "markdown",
   "metadata": {},
   "source": [
    "# Backward pass unit test"
   ]
  },
  {
   "cell_type": "markdown",
   "metadata": {},
   "source": [
    "We are going to perform the unit test of the backward pass with a finite difference estimation, make sure to read the description of the function and that you understand it well:"
   ]
  },
  {
   "cell_type": "markdown",
   "metadata": {},
   "source": [
    "## Exercise f) Test correctness of derivatives with finite difference method\n",
    "\n",
    "Write a small function that uses [the finite difference method](https://en.wikipedia.org/wiki/Finite_difference_method) to test whether the backpropation implementation is working. In short we will use\n",
    "$$\n",
    "\\frac{\\partial E(w)}{\\partial w_{ij}^{(l)}} \\approx \\frac{E(v)-E(w)}{dw}\n",
    "$$\n",
    "for $dw \\ll 1$ and $v$ is the same network as $w$ apart from $v_{ij}^{(l)} = w_{ij}^{(l)} + dw$.\n",
    "\n",
    "As arguments the function should take: some data $x$ and $t$ as in the example above, the network including activations, the indices $i$, $j$, $l$ of the weight we investigate and $dw$ and return the right hand side of the expression above.\n",
    "\n",
    "_Insert your code in the cell below._\n"
   ]
  },
  {
   "cell_type": "code",
   "execution_count": 21,
   "metadata": {},
   "outputs": [],
   "source": [
    "# Insert your finite difference code here\n",
    "def finite_difference(f,a,h):\n",
    "    return (np.subtract(f(a+h),f(a)))/h"
   ]
  },
  {
   "cell_type": "code",
   "execution_count": 22,
   "metadata": {},
   "outputs": [
    {
     "name": "stdout",
     "output_type": "stream",
     "text": [
      "([array([ 0.07849181,  0.13931713, -0.03889538,  0.381082  ,  0.06376302]),\n",
      "  array([-0.41709772])],\n",
      " [array([[ 0.03924591,  0.06965857, -0.01944769,  0.190541  ,  0.03188151],\n",
      "       [ 0.05494427,  0.09752199, -0.02722677,  0.2667574 ,  0.04463411],\n",
      "       [ 0.02354754,  0.04179514, -0.01166862,  0.1143246 ,  0.01912891]]),\n",
      "  array([[ 0.        ],\n",
      "       [-0.01261003],\n",
      "       [-0.35259481],\n",
      "       [-0.17511633],\n",
      "       [ 0.        ]])])\n"
     ]
    }
   ],
   "source": [
    "L_UT  = [3, 5, 1]\n",
    "ACT_UT = [ReLU, Tanh]\n",
    "NN_Glorot = init_NN_glorot(L_UT, ACT_UT)\n",
    "x = np.array([0.5,0.7,0.3]).reshape((1,3))\n",
    "\n",
    "t = np.array([0]).reshape((1,1))\n",
    "\n",
    "# forward pass\n",
    "fp = forward_pass(x,NN_Glorot,ACT_UT)\n",
    "\n",
    "# print(fp)\n",
    "\n",
    "bpr = backward_pass(x=x, t=t, y=fp[0][-1], z=fp[1], a=fp[0], NN=NN_Glorot, activations=ACT_F_UT, loss=squared_error)\n",
    "\n",
    "pprint.pprint(bpr)\n",
    "\n",
    "\n"
   ]
  },
  {
   "cell_type": "markdown",
   "metadata": {},
   "source": [
    "Once you have implemented the function you can compare this number with the left hand side computed by the implementation above.\n",
    "\n",
    "Try for different parameters and different values of $dw$. Scan over a range of $dw$ values. Why does the method break down for really small $dw$?\n",
    "\n",
    "#### Answer 1\n",
    "Due to numerical unstability\n",
    "\n",
    "Finite differences gives us gradients without computing gradients explicitly. Why don't we use it in practice then?\n",
    "\n",
    "#### Answer 2\n",
    "Finite difference is just calculating gradient using linear interpolation between two points. If the function is in reality not as close to linear function, the result will be off by a lot. In short it is just an numerical approximation of the real gradient. "
   ]
  },
  {
   "cell_type": "markdown",
   "metadata": {},
   "source": [
    "Below is reference code that computes the finite differences for all parameters."
   ]
  },
  {
   "cell_type": "code",
   "execution_count": 23,
   "metadata": {},
   "outputs": [],
   "source": [
    "def finite_diff_grad(x, NN, ACT_F, epsilon=None):\n",
    "    \"\"\"\n",
    "    Finite differences gradient estimator: https://en.wikipedia.org/wiki/Finite_difference_method\n",
    "    The idea is that we can approximate the derivative of any function (f) with respect to any argument (w) by evaluating the function at (w+e)\n",
    "    where (e) is a small number and then computing the following opertion (f(w+e)-f(w))/e . Note that we would need N+1 evaluations of\n",
    "    the function in order to compute the whole Jacobian (first derivatives matrix) where N is the number of arguments. The \"+1\" comes from the\n",
    "    fact that we also need to evaluate the function at the current values of the argument.\n",
    "    \n",
    "    Input:\n",
    "    x:       The point at which we want to evaluate the gradient\n",
    "    NN:      The tuple that contains the neural network\n",
    "    ACT_F:   The activation functions in order to perform the forward pass\n",
    "    epsilon: The size of the difference\n",
    "    \n",
    "    Output:\n",
    "    Two lists, the first one contains the gradients with respect to the weights, the second with respect to the biases\n",
    "    \"\"\"\n",
    "    from copy import deepcopy\n",
    "    \n",
    "    if epsilon == None:\n",
    "        epsilon = np.finfo(np.float32).eps # Machine epsilon for float 32\n",
    "        \n",
    "    grads = deepcopy(NN)               # Copy of structure of the weights and biases to save the gradients                        \n",
    "    _ , test_z = forward_pass(x, NN_UT, ACT_F_UT) # We evaluate f(x)\n",
    "    \n",
    "    for e in range(len(NN)):                       # Iterator over elements of the NN:       weights or biases\n",
    "        for h in range(len(NN[e])):                # Iterator over the layer of the element: layer number\n",
    "            for r in range(NN[e][h].shape[0]):     # Iterator over                           row number\n",
    "                for c in range(NN[e][h].shape[1]): # Iterator over                           column number \n",
    "                    NN_copy             = deepcopy(NN)    \n",
    "                    NN_copy[e][h][r,c] += epsilon\n",
    "                    _, test_z_eps       = forward_pass(x, NN_copy, ACT_F)     # We evaluate f(x+eps)\n",
    "                    grads[e][h][r,c]    = (test_z_eps[-1]-test_z[-1])/epsilon # Definition of finite differences gradient\n",
    "    \n",
    "    return grads[0], grads[1]"
   ]
  },
  {
   "cell_type": "code",
   "execution_count": 24,
   "metadata": {
    "scrolled": true
   },
   "outputs": [],
   "source": [
    "### Unit test \n",
    "\n",
    "## First lest's compute the backward pass using our own function\n",
    "# Forward pass\n",
    "test_a, test_z = forward_pass(np.array([[1,1,1]]), NN_UT, ACT_F_UT)\n",
    "# Backward pass\n",
    "test_g_b, test_g_w = backward_pass(np.array([[1,1,1]]), np.array([20]), test_a[-1], test_z, test_a, NN_UT, ACT_F_UT, squared_error)\n",
    "# Estimation by finite differences\n",
    "test_fdg_w, test_fdg_b = finite_diff_grad(np.array([[1,1,1]]), NN_UT, ACT_F_UT)"
   ]
  },
  {
   "cell_type": "code",
   "execution_count": 25,
   "metadata": {},
   "outputs": [],
   "source": [
    "# Test whether the weights and biases are all equal as the ones we estimated using back propagation\n",
    "for l in range(len(test_g_w)):\n",
    "    assert np.allclose(test_fdg_w[l], test_g_w[l])\n",
    "    assert np.allclose(test_fdg_b[l], test_g_b[l])"
   ]
  },
  {
   "cell_type": "markdown",
   "metadata": {},
   "source": [
    "# Training and validation\n",
    "\n",
    "We are ready to train some neural networks! Below we give some example initializations and a training loop. Try it out. "
   ]
  },
  {
   "cell_type": "code",
   "execution_count": 26,
   "metadata": {},
   "outputs": [],
   "source": [
    "# Initialize an arbitrary neural network\n",
    "#L  = [3, 16, 1]\n",
    "L  = [1, 8, 1]\n",
    "NN = init_NN(L)\n",
    "#NN = init_NN_glorot(L, uniform=True)\n",
    "#NN = init_NN_he_ReLU(L, uniform=True)\n",
    "\n",
    "ACT_F = [ReLU, Linear]\n",
    "#ACT_F = [Tanh, Linear]\n",
    "\n",
    "# Recommended hyper-parameters for 1-D: \n",
    "# L  = [1, 8, 1]\n",
    "# EPOCHS = 10000\n",
    "# BATCH_SIZE = 128 \n",
    "# LEARN_R = 2.5e-1 for Tanh and LEARN_R = 1e-1 for ReLU\n",
    "\n",
    "# Recommended hyper-parameters for 3-D: \n",
    "# L  = [3, 16, 1] \n",
    "# EPOCHS = 10000\n",
    "# BATCH_SIZE = 128 \n",
    "# LEARN_R = 5e-2 for ReLU and LEARN_R = 1e-1 for Tanh\n",
    "\n",
    "### Notice that, when we switch from tanh to relu activation, we decrease the learning rate. This is due the stability of the gradients \n",
    "## of the activation functions."
   ]
  },
  {
   "cell_type": "code",
   "execution_count": 27,
   "metadata": {},
   "outputs": [],
   "source": [
    "# Initialize training hyperparameters\n",
    "EPOCHS = 20000\n",
    "BATCH_SIZE = 128 \n",
    "LEARN_R = 1e-2 "
   ]
  },
  {
   "cell_type": "code",
   "execution_count": 28,
   "metadata": {
    "scrolled": true
   },
   "outputs": [
    {
     "name": "stdout",
     "output_type": "stream",
     "text": [
      "   0 ( 0.00%) Train loss: 1.889 \t Validation loss: 1.575\n",
      " 500 ( 2.50%) Train loss: 0.055 \t Validation loss: 0.042\n",
      "1000 ( 5.00%) Train loss: 0.053 \t Validation loss: 0.041\n",
      "1500 ( 7.50%) Train loss: 0.052 \t Validation loss: 0.041\n",
      "2000 (10.00%) Train loss: 0.052 \t Validation loss: 0.041\n",
      "2500 (12.50%) Train loss: 0.051 \t Validation loss: 0.041\n",
      "3000 (15.00%) Train loss: 0.050 \t Validation loss: 0.041\n",
      "3500 (17.50%) Train loss: 0.050 \t Validation loss: 0.041\n",
      "4000 (20.00%) Train loss: 0.050 \t Validation loss: 0.041\n",
      "4500 (22.50%) Train loss: 0.049 \t Validation loss: 0.041\n",
      "5000 (25.00%) Train loss: 0.049 \t Validation loss: 0.041\n",
      "5500 (27.50%) Train loss: 0.048 \t Validation loss: 0.041\n",
      "6000 (30.00%) Train loss: 0.048 \t Validation loss: 0.040\n",
      "6500 (32.50%) Train loss: 0.048 \t Validation loss: 0.040\n",
      "7000 (35.00%) Train loss: 0.048 \t Validation loss: 0.041\n",
      "7500 (37.50%) Train loss: 0.047 \t Validation loss: 0.040\n",
      "8000 (40.00%) Train loss: 0.047 \t Validation loss: 0.040\n",
      "8500 (42.50%) Train loss: 0.047 \t Validation loss: 0.040\n",
      "9000 (45.00%) Train loss: 0.046 \t Validation loss: 0.040\n",
      "9500 (47.50%) Train loss: 0.046 \t Validation loss: 0.040\n",
      "10000 (50.00%) Train loss: 0.046 \t Validation loss: 0.040\n",
      "10500 (52.50%) Train loss: 0.045 \t Validation loss: 0.040\n",
      "11000 (55.00%) Train loss: 0.045 \t Validation loss: 0.040\n",
      "11500 (57.50%) Train loss: 0.045 \t Validation loss: 0.040\n",
      "12000 (60.00%) Train loss: 0.045 \t Validation loss: 0.039\n",
      "12500 (62.50%) Train loss: 0.044 \t Validation loss: 0.039\n",
      "13000 (65.00%) Train loss: 0.044 \t Validation loss: 0.040\n",
      "13500 (67.50%) Train loss: 0.044 \t Validation loss: 0.039\n",
      "14000 (70.00%) Train loss: 0.044 \t Validation loss: 0.040\n",
      "14500 (72.50%) Train loss: 0.044 \t Validation loss: 0.039\n",
      "15000 (75.00%) Train loss: 0.044 \t Validation loss: 0.039\n",
      "15500 (77.50%) Train loss: 0.044 \t Validation loss: 0.039\n",
      "16000 (80.00%) Train loss: 0.043 \t Validation loss: 0.039\n",
      "16500 (82.50%) Train loss: 0.043 \t Validation loss: 0.039\n",
      "17000 (85.00%) Train loss: 0.043 \t Validation loss: 0.039\n",
      "17500 (87.50%) Train loss: 0.043 \t Validation loss: 0.039\n",
      "18000 (90.00%) Train loss: 0.043 \t Validation loss: 0.039\n",
      "18500 (92.50%) Train loss: 0.043 \t Validation loss: 0.040\n",
      "19000 (95.00%) Train loss: 0.043 \t Validation loss: 0.039\n",
      "19500 (97.50%) Train loss: 0.043 \t Validation loss: 0.039\n"
     ]
    }
   ],
   "source": [
    "train_loss = []\n",
    "val_loss = []\n",
    "\n",
    "for e in range(EPOCHS):\n",
    "    # Mini-batch indexes\n",
    "    idx = np.random.choice(x_train.shape[0], size=BATCH_SIZE)\n",
    "    # Forward pass\n",
    "    aff, units = forward_pass(x_train[idx,:], NN, ACT_F)\n",
    "    # Backward pass\n",
    "    g_b, g_w = backward_pass(x_train[idx,:], y_train[idx], units[-1], units, aff, NN, ACT_F, squared_error)\n",
    "    \n",
    "    # Stochastic gradient descent\n",
    "    for l in range(len(g_b)):\n",
    "        NN[0][l] -= LEARN_R*g_w[l]\n",
    "        NN[1][l] -= LEARN_R*g_b[l]\n",
    "        \n",
    "    # Training loss\n",
    "    _, units = forward_pass(x_train, NN, ACT_F)\n",
    "    # Estimate loss function\n",
    "    #print(np.max(squared_error(y_train, units[-1])))\n",
    "    train_loss.append(np.mean(squared_error(y_train, np.squeeze(units[-1]))))\n",
    "    \n",
    "    # Validation\n",
    "    # Forward pass\n",
    "    _, units = forward_pass(x_validation, NN, ACT_F)\n",
    "    # Estimate validation loss function\n",
    "    val_loss.append(np.mean(squared_error(y_validation, np.squeeze(units[-1]))))\n",
    "    \n",
    "    if e%500==0:\n",
    "        print(\"{:4d}\".format(e),\n",
    "              \"({:5.2f}%)\".format(e/EPOCHS*100), \n",
    "              \"Train loss: {:4.3f} \\t Validation loss: {:4.3f}\".format(train_loss[-1], val_loss[-1]))\n",
    "        \n"
   ]
  },
  {
   "cell_type": "code",
   "execution_count": 29,
   "metadata": {},
   "outputs": [
    {
     "data": {
      "image/png": "[encoded data removed]",
      "text/plain": [
       "<Figure size 432x288 with 1 Axes>"
      ]
     },
     "metadata": {
      "needs_background": "light"
     },
     "output_type": "display_data"
    }
   ],
   "source": [
    "plt.plot(range(len(train_loss)), train_loss);\n",
    "plt.plot(range(len(val_loss)), val_loss);"
   ]
  },
  {
   "cell_type": "markdown",
   "metadata": {},
   "source": [
    "# Testing\n",
    "\n",
    "We have kept the calculation of the test error separate in order to emphasize that you should not use the test set in optimization."
   ]
  },
  {
   "cell_type": "code",
   "execution_count": 30,
   "metadata": {},
   "outputs": [],
   "source": [
    "_, units = forward_pass(x_test, NN, ACT_F)"
   ]
  },
  {
   "cell_type": "code",
   "execution_count": 31,
   "metadata": {},
   "outputs": [
    {
     "name": "stdout",
     "output_type": "stream",
     "text": [
      "Test loss:  0.050\n"
     ]
    },
    {
     "data": {
      "image/png": "[encoded data removed]",
      "text/plain": [
       "<Figure size 432x288 with 1 Axes>"
      ]
     },
     "metadata": {
      "needs_background": "light"
     },
     "output_type": "display_data"
    }
   ],
   "source": [
    "plt.scatter(y_test, units[-1]);\n",
    "plt.plot([np.min(y_test), np.max(y_test)], [np.min(y_test), np.max(y_test)], color='k');\n",
    "plt.xlabel(\"y\");\n",
    "plt.ylabel(\"$\\hat{y}$\");\n",
    "plt.title(\"Model prediction vs real in the test set, the close to the line the better\")\n",
    "plt.grid(True);\n",
    "plt.axis('equal');\n",
    "plt.tight_layout();\n",
    "\n",
    "print(\"Test loss:  {:4.3f}\".format(np.mean(squared_error(y_test, np.squeeze(units[-1])))))"
   ]
  },
  {
   "cell_type": "code",
   "execution_count": 32,
   "metadata": {},
   "outputs": [
    {
     "data": {
      "image/png": "[encoded data removed]",
      "text/plain": [
       "<Figure size 432x288 with 1 Axes>"
      ]
     },
     "metadata": {
      "needs_background": "light"
     },
     "output_type": "display_data"
    }
   ],
   "source": [
    "if D1:\n",
    "    plt.scatter(x_train[:,0], y_train, label=\"train data\");\n",
    "    plt.scatter(x_test[:,0], units[-1], label=\"test prediction\");\n",
    "    plt.scatter(x_test[:,0], y_test, label=\"test data\");\n",
    "    plt.legend();\n",
    "    plt.xlabel(\"x\");\n",
    "    plt.ylabel(\"y\");\n",
    "else:\n",
    "    plt.scatter(x_train[:,1], y_train, label=\"train data\");\n",
    "    plt.scatter(x_test[:,1], units[-1], label=\"test data prediction\");\n",
    "    plt.scatter(x_test[:,1], y_test, label=\"test data\");\n",
    "    plt.legend();\n",
    "    plt.xlabel(\"x\");\n",
    "    plt.ylabel(\"y\");"
   ]
  },
  {
   "cell_type": "markdown",
   "metadata": {},
   "source": [
    "## Exercise g) Show overfitting, underfitting and just right fitting\n",
    "\n",
    "Vary the architecture and other things to show clear signs of overfitting (=training loss significantly lower than test loss) and underfitting (=not fitting enoung to training data so that test performance is also hurt).\n",
    "\n",
    "See also if you can get a good compromise which leads to a low validation loss. \n",
    "\n",
    "For this problem do you see any big difference between validation and test loss? The answer here will probably be no. Discuss cases where it is important to keep the two separate.\n",
    "\n",
    "_Insert written answer here._\n"
   ]
  },
  {
   "cell_type": "markdown",
   "metadata": {},
   "source": [
    "## g) Answers"
   ]
  },
  {
   "cell_type": "code",
   "execution_count": 71,
   "metadata": {},
   "outputs": [
    {
     "name": "stdout",
     "output_type": "stream",
     "text": [
      "   0 ( 0.00%) Train loss: 0.945 \t Validation loss: 0.862\n",
      " 500 ( 1.00%) Train loss: 0.034 \t Validation loss: 0.057\n",
      "1000 ( 2.00%) Train loss: 0.034 \t Validation loss: 0.058\n",
      "1500 ( 3.00%) Train loss: 0.034 \t Validation loss: 0.057\n",
      "2000 ( 4.00%) Train loss: 0.034 \t Validation loss: 0.057\n",
      "2500 ( 5.00%) Train loss: 0.035 \t Validation loss: 0.057\n",
      "3000 ( 6.00%) Train loss: 0.035 \t Validation loss: 0.057\n",
      "3500 ( 7.00%) Train loss: 0.034 \t Validation loss: 0.058\n",
      "4000 ( 8.00%) Train loss: 0.034 \t Validation loss: 0.057\n",
      "4500 ( 9.00%) Train loss: 0.034 \t Validation loss: 0.057\n",
      "5000 (10.00%) Train loss: 0.034 \t Validation loss: 0.058\n",
      "5500 (11.00%) Train loss: 0.035 \t Validation loss: 0.056\n",
      "6000 (12.00%) Train loss: 0.034 \t Validation loss: 0.058\n",
      "6500 (13.00%) Train loss: 0.034 \t Validation loss: 0.057\n",
      "7000 (14.00%) Train loss: 0.034 \t Validation loss: 0.057\n",
      "7500 (15.00%) Train loss: 0.035 \t Validation loss: 0.058\n",
      "8000 (16.00%) Train loss: 0.034 \t Validation loss: 0.058\n",
      "8500 (17.00%) Train loss: 0.034 \t Validation loss: 0.057\n",
      "9000 (18.00%) Train loss: 0.034 \t Validation loss: 0.058\n",
      "9500 (19.00%) Train loss: 0.034 \t Validation loss: 0.058\n",
      "10000 (20.00%) Train loss: 0.034 \t Validation loss: 0.057\n",
      "10500 (21.00%) Train loss: 0.034 \t Validation loss: 0.057\n",
      "11000 (22.00%) Train loss: 0.034 \t Validation loss: 0.057\n",
      "11500 (23.00%) Train loss: 0.034 \t Validation loss: 0.057\n",
      "12000 (24.00%) Train loss: 0.034 \t Validation loss: 0.058\n",
      "12500 (25.00%) Train loss: 0.034 \t Validation loss: 0.057\n",
      "13000 (26.00%) Train loss: 0.034 \t Validation loss: 0.057\n",
      "13500 (27.00%) Train loss: 0.034 \t Validation loss: 0.058\n",
      "14000 (28.00%) Train loss: 0.034 \t Validation loss: 0.057\n",
      "14500 (29.00%) Train loss: 0.034 \t Validation loss: 0.057\n",
      "15000 (30.00%) Train loss: 0.034 \t Validation loss: 0.058\n",
      "15500 (31.00%) Train loss: 0.034 \t Validation loss: 0.057\n",
      "16000 (32.00%) Train loss: 0.034 \t Validation loss: 0.057\n",
      "16500 (33.00%) Train loss: 0.035 \t Validation loss: 0.057\n",
      "17000 (34.00%) Train loss: 0.034 \t Validation loss: 0.057\n",
      "17500 (35.00%) Train loss: 0.034 \t Validation loss: 0.057\n",
      "18000 (36.00%) Train loss: 0.034 \t Validation loss: 0.057\n",
      "18500 (37.00%) Train loss: 0.034 \t Validation loss: 0.057\n",
      "19000 (38.00%) Train loss: 0.035 \t Validation loss: 0.057\n",
      "19500 (39.00%) Train loss: 0.035 \t Validation loss: 0.059\n",
      "20000 (40.00%) Train loss: 0.035 \t Validation loss: 0.058\n",
      "20500 (41.00%) Train loss: 0.034 \t Validation loss: 0.056\n",
      "21000 (42.00%) Train loss: 0.034 \t Validation loss: 0.057\n",
      "21500 (43.00%) Train loss: 0.034 \t Validation loss: 0.058\n",
      "22000 (44.00%) Train loss: 0.034 \t Validation loss: 0.057\n",
      "22500 (45.00%) Train loss: 0.034 \t Validation loss: 0.058\n",
      "23000 (46.00%) Train loss: 0.034 \t Validation loss: 0.056\n",
      "23500 (47.00%) Train loss: 0.034 \t Validation loss: 0.057\n",
      "24000 (48.00%) Train loss: 0.034 \t Validation loss: 0.057\n",
      "24500 (49.00%) Train loss: 0.034 \t Validation loss: 0.057\n",
      "25000 (50.00%) Train loss: 0.034 \t Validation loss: 0.057\n",
      "25500 (51.00%) Train loss: 0.034 \t Validation loss: 0.057\n",
      "26000 (52.00%) Train loss: 0.034 \t Validation loss: 0.057\n",
      "26500 (53.00%) Train loss: 0.035 \t Validation loss: 0.058\n",
      "27000 (54.00%) Train loss: 0.034 \t Validation loss: 0.057\n",
      "27500 (55.00%) Train loss: 0.034 \t Validation loss: 0.057\n",
      "28000 (56.00%) Train loss: 0.034 \t Validation loss: 0.057\n",
      "28500 (57.00%) Train loss: 0.034 \t Validation loss: 0.057\n",
      "29000 (58.00%) Train loss: 0.034 \t Validation loss: 0.057\n",
      "29500 (59.00%) Train loss: 0.034 \t Validation loss: 0.057\n",
      "30000 (60.00%) Train loss: 0.034 \t Validation loss: 0.057\n",
      "30500 (61.00%) Train loss: 0.034 \t Validation loss: 0.057\n",
      "31000 (62.00%) Train loss: 0.034 \t Validation loss: 0.057\n",
      "31500 (63.00%) Train loss: 0.034 \t Validation loss: 0.058\n",
      "32000 (64.00%) Train loss: 0.034 \t Validation loss: 0.058\n",
      "32500 (65.00%) Train loss: 0.034 \t Validation loss: 0.057\n",
      "33000 (66.00%) Train loss: 0.034 \t Validation loss: 0.057\n",
      "33500 (67.00%) Train loss: 0.034 \t Validation loss: 0.057\n",
      "34000 (68.00%) Train loss: 0.034 \t Validation loss: 0.057\n",
      "34500 (69.00%) Train loss: 0.034 \t Validation loss: 0.057\n",
      "35000 (70.00%) Train loss: 0.035 \t Validation loss: 0.057\n",
      "35500 (71.00%) Train loss: 0.034 \t Validation loss: 0.057\n",
      "36000 (72.00%) Train loss: 0.034 \t Validation loss: 0.057\n",
      "36500 (73.00%) Train loss: 0.034 \t Validation loss: 0.058\n",
      "37000 (74.00%) Train loss: 0.035 \t Validation loss: 0.058\n",
      "37500 (75.00%) Train loss: 0.034 \t Validation loss: 0.057\n",
      "38000 (76.00%) Train loss: 0.034 \t Validation loss: 0.056\n",
      "38500 (77.00%) Train loss: 0.034 \t Validation loss: 0.057\n",
      "39000 (78.00%) Train loss: 0.035 \t Validation loss: 0.056\n",
      "39500 (79.00%) Train loss: 0.034 \t Validation loss: 0.057\n",
      "40000 (80.00%) Train loss: 0.034 \t Validation loss: 0.057\n",
      "40500 (81.00%) Train loss: 0.034 \t Validation loss: 0.057\n",
      "41000 (82.00%) Train loss: 0.034 \t Validation loss: 0.058\n",
      "41500 (83.00%) Train loss: 0.034 \t Validation loss: 0.057\n",
      "42000 (84.00%) Train loss: 0.034 \t Validation loss: 0.058\n",
      "42500 (85.00%) Train loss: 0.034 \t Validation loss: 0.057\n",
      "43000 (86.00%) Train loss: 0.034 \t Validation loss: 0.058\n",
      "43500 (87.00%) Train loss: 0.034 \t Validation loss: 0.058\n",
      "44000 (88.00%) Train loss: 0.034 \t Validation loss: 0.057\n",
      "44500 (89.00%) Train loss: 0.034 \t Validation loss: 0.057\n",
      "45000 (90.00%) Train loss: 0.034 \t Validation loss: 0.057\n",
      "45500 (91.00%) Train loss: 0.034 \t Validation loss: 0.057\n",
      "46000 (92.00%) Train loss: 0.034 \t Validation loss: 0.056\n",
      "46500 (93.00%) Train loss: 0.034 \t Validation loss: 0.057\n",
      "47000 (94.00%) Train loss: 0.034 \t Validation loss: 0.057\n",
      "47500 (95.00%) Train loss: 0.034 \t Validation loss: 0.058\n",
      "48000 (96.00%) Train loss: 0.034 \t Validation loss: 0.057\n",
      "48500 (97.00%) Train loss: 0.034 \t Validation loss: 0.057\n",
      "49000 (98.00%) Train loss: 0.035 \t Validation loss: 0.058\n",
      "49500 (99.00%) Train loss: 0.034 \t Validation loss: 0.058\n"
     ]
    }
   ],
   "source": [
    "# underfitting \n",
    "D1 = True\n",
    "x_train_3d, y_train_3d,  x_validation_3d, y_validation_3d, x_test_3d, y_test_3d = data_generator(noise=0.5, D1=D1)\n",
    "\n",
    "L  = [1, 2, 1]\n",
    "NN = init_NN(L)\n",
    "\n",
    "ACT_F = [ReLU, Linear]\n",
    "#ACT_F = [Tanh, Linear]\n",
    "\n",
    "# Initialize training hyperparameters\n",
    "EPOCHS = 50000\n",
    "BATCH_SIZE = 128 \n",
    "LEARN_R = 1e-1 \n",
    "\n",
    "train_loss = []\n",
    "val_loss = []\n",
    "\n",
    "for e in range(EPOCHS):\n",
    "    # Mini-batch indexes\n",
    "    idx = np.random.choice(x_train_3d.shape[0], size=BATCH_SIZE)\n",
    "    # Forward pass\n",
    "    aff, units = forward_pass(x_train_3d[idx,:], NN, ACT_F)\n",
    "    # Backward pass\n",
    "    g_b, g_w = backward_pass(x_train_3d[idx,:], y_train_3d[idx], units[-1], units, aff, NN, ACT_F, squared_error)\n",
    "    \n",
    "    # Stochastic gradient descent\n",
    "    for l in range(len(g_b)):\n",
    "        NN[0][l] -= LEARN_R*g_w[l]\n",
    "        NN[1][l] -= LEARN_R*g_b[l]\n",
    "        \n",
    "    # Training loss\n",
    "    _, units = forward_pass(x_train_3d, NN, ACT_F)\n",
    "    # Estimate loss function\n",
    "    #print(np.max(squared_error(y_train, units[-1])))\n",
    "    train_loss.append(np.mean(squared_error(y_train_3d, np.squeeze(units[-1]))))\n",
    "    \n",
    "    # Validation\n",
    "    # Forward pass\n",
    "    _, units = forward_pass(x_validation_3d, NN, ACT_F)\n",
    "    # Estimate validation loss function\n",
    "    val_loss.append(np.mean(squared_error(y_validation_3d, np.squeeze(units[-1]))))\n",
    "    \n",
    "    if e%500==0:\n",
    "        print(\"{:4d}\".format(e),\n",
    "              \"({:5.2f}%)\".format(e/EPOCHS*100), \n",
    "              \"Train loss: {:4.3f} \\t Validation loss: {:4.3f}\".format(train_loss[-1], val_loss[-1]))\n",
    "        "
   ]
  },
  {
   "cell_type": "code",
   "execution_count": 72,
   "metadata": {},
   "outputs": [
    {
     "data": {
      "image/png": "[encoded data removed]",
      "text/plain": [
       "<Figure size 432x288 with 1 Axes>"
      ]
     },
     "metadata": {
      "needs_background": "light"
     },
     "output_type": "display_data"
    }
   ],
   "source": [
    "plt.plot(range(len(train_loss)), train_loss);"
   ]
  },
  {
   "cell_type": "code",
   "execution_count": 73,
   "metadata": {},
   "outputs": [
    {
     "data": {
      "image/png": "[encoded data removed]",
      "text/plain": [
       "<Figure size 432x288 with 1 Axes>"
      ]
     },
     "metadata": {
      "needs_background": "light"
     },
     "output_type": "display_data"
    }
   ],
   "source": [
    "plt.plot(range(len(val_loss)), val_loss);"
   ]
  },
  {
   "cell_type": "code",
   "execution_count": 74,
   "metadata": {},
   "outputs": [
    {
     "name": "stdout",
     "output_type": "stream",
     "text": [
      "Test loss:  0.042\n"
     ]
    },
    {
     "data": {
      "image/png": "[encoded data removed]",
      "text/plain": [
       "<Figure size 432x288 with 1 Axes>"
      ]
     },
     "metadata": {
      "needs_background": "light"
     },
     "output_type": "display_data"
    }
   ],
   "source": [
    "_, units = forward_pass(x_test_3d, NN, ACT_F)\n",
    "\n",
    "plt.scatter(y_test_3d, units[-1]);\n",
    "plt.plot([np.min(y_test_3d), np.max(y_test_3d)], [np.min(y_test_3d), np.max(y_test_3d)], color='k');\n",
    "plt.xlabel(\"y\");\n",
    "plt.ylabel(\"$\\hat{y}$\");\n",
    "plt.title(\"Model prediction vs real in the test set, the close to the line the better\")\n",
    "plt.grid(True);\n",
    "plt.axis('equal');\n",
    "plt.tight_layout();\n",
    "\n",
    "print(\"Test loss:  {:4.3f}\".format(np.mean(squared_error(y_test_3d, np.squeeze(units[-1])))))"
   ]
  },
  {
   "cell_type": "code",
   "execution_count": 77,
   "metadata": {},
   "outputs": [
    {
     "data": {
      "text/plain": [
       "Text(0.5, 1.0, 'underfitting')"
      ]
     },
     "execution_count": 77,
     "metadata": {},
     "output_type": "execute_result"
    },
    {
     "data": {
      "image/png": "[encoded data removed]",
      "text/plain": [
       "<Figure size 432x288 with 1 Axes>"
      ]
     },
     "metadata": {
      "needs_background": "light"
     },
     "output_type": "display_data"
    }
   ],
   "source": [
    "\n",
    "if D1:\n",
    "    plt.scatter(x_train_3d[:,0], y_train_3d, label=\"train data\");\n",
    "    plt.scatter(x_test_3d[:,0], units[-1], label=\"test prediction\");\n",
    "    plt.scatter(x_test_3d[:,0], y_test_3d, label=\"test data\");\n",
    "    plt.legend();\n",
    "    plt.xlabel(\"x\");\n",
    "    plt.ylabel(\"y\");\n",
    "else:\n",
    "    plt.scatter(x_train_3d[:,1], y_train_3d, label=\"train data\");\n",
    "    plt.scatter(x_test_3d[:,1], units[-1], label=\"test data prediction\");\n",
    "    plt.scatter(x_test_3d[:,1], y_test_3d, label=\"test data\");\n",
    "    plt.legend();\n",
    "    plt.xlabel(\"x\");\n",
    "    plt.ylabel(\"y\");\n",
    "    \n",
    "plt.title(\"underfitting\")"
   ]
  },
  {
   "cell_type": "code",
   "execution_count": 78,
   "metadata": {
    "scrolled": true
   },
   "outputs": [
    {
     "name": "stdout",
     "output_type": "stream",
     "text": [
      "   0 ( 0.00%) Train loss: 31.729 \t Validation loss: 33.236\n",
      " 500 ( 0.50%) Train loss: 0.029 \t Validation loss: 0.036\n",
      "1000 ( 1.00%) Train loss: 0.029 \t Validation loss: 0.033\n",
      "1500 ( 1.50%) Train loss: 0.028 \t Validation loss: 0.032\n",
      "2000 ( 2.00%) Train loss: 0.028 \t Validation loss: 0.031\n",
      "2500 ( 2.50%) Train loss: 0.027 \t Validation loss: 0.030\n",
      "3000 ( 3.00%) Train loss: 0.027 \t Validation loss: 0.030\n",
      "3500 ( 3.50%) Train loss: 0.027 \t Validation loss: 0.030\n",
      "4000 ( 4.00%) Train loss: 0.026 \t Validation loss: 0.029\n",
      "4500 ( 4.50%) Train loss: 0.026 \t Validation loss: 0.029\n",
      "5000 ( 5.00%) Train loss: 0.026 \t Validation loss: 0.028\n",
      "5500 ( 5.50%) Train loss: 0.026 \t Validation loss: 0.028\n",
      "6000 ( 6.00%) Train loss: 0.026 \t Validation loss: 0.029\n",
      "6500 ( 6.50%) Train loss: 0.026 \t Validation loss: 0.028\n",
      "7000 ( 7.00%) Train loss: 0.026 \t Validation loss: 0.028\n",
      "7500 ( 7.50%) Train loss: 0.026 \t Validation loss: 0.028\n",
      "8000 ( 8.00%) Train loss: 0.026 \t Validation loss: 0.028\n",
      "8500 ( 8.50%) Train loss: 0.026 \t Validation loss: 0.028\n",
      "9000 ( 9.00%) Train loss: 0.026 \t Validation loss: 0.028\n",
      "9500 ( 9.50%) Train loss: 0.026 \t Validation loss: 0.028\n",
      "10000 (10.00%) Train loss: 0.026 \t Validation loss: 0.027\n",
      "10500 (10.50%) Train loss: 0.026 \t Validation loss: 0.028\n",
      "11000 (11.00%) Train loss: 0.026 \t Validation loss: 0.027\n",
      "11500 (11.50%) Train loss: 0.026 \t Validation loss: 0.027\n",
      "12000 (12.00%) Train loss: 0.026 \t Validation loss: 0.027\n",
      "12500 (12.50%) Train loss: 0.025 \t Validation loss: 0.027\n",
      "13000 (13.00%) Train loss: 0.025 \t Validation loss: 0.027\n",
      "13500 (13.50%) Train loss: 0.025 \t Validation loss: 0.027\n",
      "14000 (14.00%) Train loss: 0.025 \t Validation loss: 0.027\n",
      "14500 (14.50%) Train loss: 0.025 \t Validation loss: 0.027\n",
      "15000 (15.00%) Train loss: 0.025 \t Validation loss: 0.027\n",
      "15500 (15.50%) Train loss: 0.025 \t Validation loss: 0.027\n",
      "16000 (16.00%) Train loss: 0.025 \t Validation loss: 0.027\n",
      "16500 (16.50%) Train loss: 0.025 \t Validation loss: 0.027\n",
      "17000 (17.00%) Train loss: 0.025 \t Validation loss: 0.027\n",
      "17500 (17.50%) Train loss: 0.025 \t Validation loss: 0.027\n",
      "18000 (18.00%) Train loss: 0.025 \t Validation loss: 0.027\n",
      "18500 (18.50%) Train loss: 0.025 \t Validation loss: 0.027\n",
      "19000 (19.00%) Train loss: 0.025 \t Validation loss: 0.027\n",
      "19500 (19.50%) Train loss: 0.025 \t Validation loss: 0.027\n",
      "20000 (20.00%) Train loss: 0.025 \t Validation loss: 0.027\n",
      "20500 (20.50%) Train loss: 0.025 \t Validation loss: 0.027\n",
      "21000 (21.00%) Train loss: 0.025 \t Validation loss: 0.027\n",
      "21500 (21.50%) Train loss: 0.025 \t Validation loss: 0.027\n",
      "22000 (22.00%) Train loss: 0.025 \t Validation loss: 0.027\n",
      "22500 (22.50%) Train loss: 0.025 \t Validation loss: 0.027\n",
      "23000 (23.00%) Train loss: 0.025 \t Validation loss: 0.027\n",
      "23500 (23.50%) Train loss: 0.025 \t Validation loss: 0.027\n",
      "24000 (24.00%) Train loss: 0.025 \t Validation loss: 0.027\n",
      "24500 (24.50%) Train loss: 0.025 \t Validation loss: 0.027\n",
      "25000 (25.00%) Train loss: 0.025 \t Validation loss: 0.027\n",
      "25500 (25.50%) Train loss: 0.025 \t Validation loss: 0.027\n",
      "26000 (26.00%) Train loss: 0.025 \t Validation loss: 0.027\n",
      "26500 (26.50%) Train loss: 0.024 \t Validation loss: 0.027\n",
      "27000 (27.00%) Train loss: 0.024 \t Validation loss: 0.027\n",
      "27500 (27.50%) Train loss: 0.024 \t Validation loss: 0.027\n",
      "28000 (28.00%) Train loss: 0.024 \t Validation loss: 0.027\n",
      "28500 (28.50%) Train loss: 0.025 \t Validation loss: 0.027\n",
      "29000 (29.00%) Train loss: 0.024 \t Validation loss: 0.027\n",
      "29500 (29.50%) Train loss: 0.024 \t Validation loss: 0.027\n",
      "30000 (30.00%) Train loss: 0.024 \t Validation loss: 0.027\n",
      "30500 (30.50%) Train loss: 0.024 \t Validation loss: 0.027\n",
      "31000 (31.00%) Train loss: 0.024 \t Validation loss: 0.027\n",
      "31500 (31.50%) Train loss: 0.024 \t Validation loss: 0.027\n",
      "32000 (32.00%) Train loss: 0.024 \t Validation loss: 0.027\n",
      "32500 (32.50%) Train loss: 0.024 \t Validation loss: 0.027\n",
      "33000 (33.00%) Train loss: 0.024 \t Validation loss: 0.028\n",
      "33500 (33.50%) Train loss: 0.024 \t Validation loss: 0.027\n",
      "34000 (34.00%) Train loss: 0.024 \t Validation loss: 0.027\n",
      "34500 (34.50%) Train loss: 0.024 \t Validation loss: 0.027\n",
      "35000 (35.00%) Train loss: 0.024 \t Validation loss: 0.027\n",
      "35500 (35.50%) Train loss: 0.024 \t Validation loss: 0.027\n",
      "36000 (36.00%) Train loss: 0.024 \t Validation loss: 0.027\n",
      "36500 (36.50%) Train loss: 0.024 \t Validation loss: 0.027\n",
      "37000 (37.00%) Train loss: 0.024 \t Validation loss: 0.027\n",
      "37500 (37.50%) Train loss: 0.024 \t Validation loss: 0.027\n",
      "38000 (38.00%) Train loss: 0.024 \t Validation loss: 0.027\n",
      "38500 (38.50%) Train loss: 0.024 \t Validation loss: 0.027\n",
      "39000 (39.00%) Train loss: 0.024 \t Validation loss: 0.027\n",
      "39500 (39.50%) Train loss: 0.024 \t Validation loss: 0.027\n",
      "40000 (40.00%) Train loss: 0.024 \t Validation loss: 0.027\n",
      "40500 (40.50%) Train loss: 0.024 \t Validation loss: 0.027\n",
      "41000 (41.00%) Train loss: 0.024 \t Validation loss: 0.027\n",
      "41500 (41.50%) Train loss: 0.024 \t Validation loss: 0.027\n",
      "42000 (42.00%) Train loss: 0.024 \t Validation loss: 0.028\n",
      "42500 (42.50%) Train loss: 0.024 \t Validation loss: 0.027\n",
      "43000 (43.00%) Train loss: 0.024 \t Validation loss: 0.027\n",
      "43500 (43.50%) Train loss: 0.024 \t Validation loss: 0.027\n",
      "44000 (44.00%) Train loss: 0.024 \t Validation loss: 0.027\n",
      "44500 (44.50%) Train loss: 0.023 \t Validation loss: 0.027\n",
      "45000 (45.00%) Train loss: 0.023 \t Validation loss: 0.027\n",
      "45500 (45.50%) Train loss: 0.023 \t Validation loss: 0.028\n",
      "46000 (46.00%) Train loss: 0.024 \t Validation loss: 0.027\n",
      "46500 (46.50%) Train loss: 0.023 \t Validation loss: 0.027\n",
      "47000 (47.00%) Train loss: 0.023 \t Validation loss: 0.027\n",
      "47500 (47.50%) Train loss: 0.023 \t Validation loss: 0.027\n",
      "48000 (48.00%) Train loss: 0.023 \t Validation loss: 0.027\n",
      "48500 (48.50%) Train loss: 0.023 \t Validation loss: 0.027\n",
      "49000 (49.00%) Train loss: 0.023 \t Validation loss: 0.027\n",
      "49500 (49.50%) Train loss: 0.023 \t Validation loss: 0.027\n",
      "50000 (50.00%) Train loss: 0.023 \t Validation loss: 0.027\n",
      "50500 (50.50%) Train loss: 0.023 \t Validation loss: 0.028\n",
      "51000 (51.00%) Train loss: 0.023 \t Validation loss: 0.027\n",
      "51500 (51.50%) Train loss: 0.023 \t Validation loss: 0.028\n",
      "52000 (52.00%) Train loss: 0.023 \t Validation loss: 0.027\n",
      "52500 (52.50%) Train loss: 0.023 \t Validation loss: 0.027\n",
      "53000 (53.00%) Train loss: 0.023 \t Validation loss: 0.027\n",
      "53500 (53.50%) Train loss: 0.023 \t Validation loss: 0.027\n",
      "54000 (54.00%) Train loss: 0.023 \t Validation loss: 0.027\n",
      "54500 (54.50%) Train loss: 0.023 \t Validation loss: 0.027\n",
      "55000 (55.00%) Train loss: 0.023 \t Validation loss: 0.028\n",
      "55500 (55.50%) Train loss: 0.024 \t Validation loss: 0.028\n",
      "56000 (56.00%) Train loss: 0.023 \t Validation loss: 0.027\n",
      "56500 (56.50%) Train loss: 0.023 \t Validation loss: 0.027\n",
      "57000 (57.00%) Train loss: 0.023 \t Validation loss: 0.027\n",
      "57500 (57.50%) Train loss: 0.023 \t Validation loss: 0.027\n",
      "58000 (58.00%) Train loss: 0.023 \t Validation loss: 0.027\n",
      "58500 (58.50%) Train loss: 0.023 \t Validation loss: 0.027\n",
      "59000 (59.00%) Train loss: 0.023 \t Validation loss: 0.027\n",
      "59500 (59.50%) Train loss: 0.023 \t Validation loss: 0.027\n",
      "60000 (60.00%) Train loss: 0.023 \t Validation loss: 0.027\n",
      "60500 (60.50%) Train loss: 0.023 \t Validation loss: 0.027\n",
      "61000 (61.00%) Train loss: 0.023 \t Validation loss: 0.027\n",
      "61500 (61.50%) Train loss: 0.023 \t Validation loss: 0.027\n",
      "62000 (62.00%) Train loss: 0.023 \t Validation loss: 0.027\n",
      "62500 (62.50%) Train loss: 0.023 \t Validation loss: 0.027\n",
      "63000 (63.00%) Train loss: 0.023 \t Validation loss: 0.027\n",
      "63500 (63.50%) Train loss: 0.023 \t Validation loss: 0.027\n",
      "64000 (64.00%) Train loss: 0.023 \t Validation loss: 0.027\n",
      "64500 (64.50%) Train loss: 0.023 \t Validation loss: 0.027\n",
      "65000 (65.00%) Train loss: 0.023 \t Validation loss: 0.027\n",
      "65500 (65.50%) Train loss: 0.023 \t Validation loss: 0.027\n",
      "66000 (66.00%) Train loss: 0.023 \t Validation loss: 0.027\n",
      "66500 (66.50%) Train loss: 0.023 \t Validation loss: 0.027\n",
      "67000 (67.00%) Train loss: 0.023 \t Validation loss: 0.027\n",
      "67500 (67.50%) Train loss: 0.023 \t Validation loss: 0.027\n",
      "68000 (68.00%) Train loss: 0.023 \t Validation loss: 0.028\n",
      "68500 (68.50%) Train loss: 0.023 \t Validation loss: 0.027\n",
      "69000 (69.00%) Train loss: 0.023 \t Validation loss: 0.027\n",
      "69500 (69.50%) Train loss: 0.023 \t Validation loss: 0.027\n",
      "70000 (70.00%) Train loss: 0.023 \t Validation loss: 0.027\n",
      "70500 (70.50%) Train loss: 0.023 \t Validation loss: 0.027\n"
     ]
    },
    {
     "name": "stdout",
     "output_type": "stream",
     "text": [
      "71000 (71.00%) Train loss: 0.023 \t Validation loss: 0.027\n",
      "71500 (71.50%) Train loss: 0.023 \t Validation loss: 0.027\n",
      "72000 (72.00%) Train loss: 0.023 \t Validation loss: 0.027\n",
      "72500 (72.50%) Train loss: 0.023 \t Validation loss: 0.027\n",
      "73000 (73.00%) Train loss: 0.023 \t Validation loss: 0.027\n",
      "73500 (73.50%) Train loss: 0.023 \t Validation loss: 0.027\n",
      "74000 (74.00%) Train loss: 0.023 \t Validation loss: 0.027\n",
      "74500 (74.50%) Train loss: 0.023 \t Validation loss: 0.027\n",
      "75000 (75.00%) Train loss: 0.023 \t Validation loss: 0.027\n",
      "75500 (75.50%) Train loss: 0.023 \t Validation loss: 0.027\n",
      "76000 (76.00%) Train loss: 0.023 \t Validation loss: 0.027\n",
      "76500 (76.50%) Train loss: 0.023 \t Validation loss: 0.027\n",
      "77000 (77.00%) Train loss: 0.023 \t Validation loss: 0.027\n",
      "77500 (77.50%) Train loss: 0.023 \t Validation loss: 0.027\n",
      "78000 (78.00%) Train loss: 0.023 \t Validation loss: 0.027\n",
      "78500 (78.50%) Train loss: 0.023 \t Validation loss: 0.027\n",
      "79000 (79.00%) Train loss: 0.023 \t Validation loss: 0.027\n",
      "79500 (79.50%) Train loss: 0.023 \t Validation loss: 0.027\n",
      "80000 (80.00%) Train loss: 0.023 \t Validation loss: 0.027\n",
      "80500 (80.50%) Train loss: 0.023 \t Validation loss: 0.027\n",
      "81000 (81.00%) Train loss: 0.023 \t Validation loss: 0.026\n",
      "81500 (81.50%) Train loss: 0.023 \t Validation loss: 0.027\n",
      "82000 (82.00%) Train loss: 0.023 \t Validation loss: 0.027\n",
      "82500 (82.50%) Train loss: 0.023 \t Validation loss: 0.027\n",
      "83000 (83.00%) Train loss: 0.023 \t Validation loss: 0.027\n",
      "83500 (83.50%) Train loss: 0.023 \t Validation loss: 0.027\n",
      "84000 (84.00%) Train loss: 0.023 \t Validation loss: 0.027\n",
      "84500 (84.50%) Train loss: 0.023 \t Validation loss: 0.027\n",
      "85000 (85.00%) Train loss: 0.023 \t Validation loss: 0.027\n",
      "85500 (85.50%) Train loss: 0.023 \t Validation loss: 0.027\n",
      "86000 (86.00%) Train loss: 0.023 \t Validation loss: 0.027\n",
      "86500 (86.50%) Train loss: 0.023 \t Validation loss: 0.027\n",
      "87000 (87.00%) Train loss: 0.023 \t Validation loss: 0.028\n",
      "87500 (87.50%) Train loss: 0.023 \t Validation loss: 0.027\n",
      "88000 (88.00%) Train loss: 0.023 \t Validation loss: 0.028\n",
      "88500 (88.50%) Train loss: 0.023 \t Validation loss: 0.027\n",
      "89000 (89.00%) Train loss: 0.023 \t Validation loss: 0.027\n",
      "89500 (89.50%) Train loss: 0.022 \t Validation loss: 0.027\n",
      "90000 (90.00%) Train loss: 0.023 \t Validation loss: 0.027\n",
      "90500 (90.50%) Train loss: 0.023 \t Validation loss: 0.027\n",
      "91000 (91.00%) Train loss: 0.022 \t Validation loss: 0.027\n",
      "91500 (91.50%) Train loss: 0.022 \t Validation loss: 0.027\n",
      "92000 (92.00%) Train loss: 0.023 \t Validation loss: 0.028\n",
      "92500 (92.50%) Train loss: 0.022 \t Validation loss: 0.027\n",
      "93000 (93.00%) Train loss: 0.023 \t Validation loss: 0.027\n",
      "93500 (93.50%) Train loss: 0.022 \t Validation loss: 0.027\n",
      "94000 (94.00%) Train loss: 0.023 \t Validation loss: 0.027\n",
      "94500 (94.50%) Train loss: 0.023 \t Validation loss: 0.028\n",
      "95000 (95.00%) Train loss: 0.022 \t Validation loss: 0.027\n",
      "95500 (95.50%) Train loss: 0.022 \t Validation loss: 0.027\n",
      "96000 (96.00%) Train loss: 0.022 \t Validation loss: 0.027\n",
      "96500 (96.50%) Train loss: 0.022 \t Validation loss: 0.027\n",
      "97000 (97.00%) Train loss: 0.022 \t Validation loss: 0.027\n",
      "97500 (97.50%) Train loss: 0.023 \t Validation loss: 0.028\n",
      "98000 (98.00%) Train loss: 0.023 \t Validation loss: 0.027\n",
      "98500 (98.50%) Train loss: 0.023 \t Validation loss: 0.028\n",
      "99000 (99.00%) Train loss: 0.023 \t Validation loss: 0.027\n",
      "99500 (99.50%) Train loss: 0.022 \t Validation loss: 0.028\n"
     ]
    }
   ],
   "source": [
    "# Just right\n",
    "\n",
    "D1 = True\n",
    "x_train, y_train,  x_validation, y_validation, x_test, y_test = data_generator(noise=0.5, D1=D1)\n",
    "\n",
    "\n",
    "#L  = [3, 16, 1]\n",
    "L  = [1, 8,8,8,8, 1]\n",
    "#NN = init_NN(L)\n",
    "\n",
    "#NN = init_NN_he_ReLU(L, uniform=True)\n",
    "\n",
    "\n",
    "ACT_F = [ReLU]*4 +[Linear]\n",
    "#ACT_F = [Tanh, Linear]\n",
    "\n",
    "#NN = init_NN_glorot(L,ACT_F, uniform=True)\n",
    "NN = init_NN(L)\n",
    "\n",
    "# Recommended hyper-parameters for 1-D: \n",
    "# L  = [1, 8, 1]\n",
    "# EPOCHS = 10000\n",
    "# BATCH_SIZE = 128 \n",
    "# LEARN_R = 2.5e-1 for Tanh and LEARN_R = 1e-1 for ReLU\n",
    "\n",
    "# Recommended hyper-parameters for 3-D: \n",
    "# L  = [3, 16, 1] \n",
    "# EPOCHS = 10000\n",
    "# BATCH_SIZE = 128 \n",
    "# LEARN_R = 5e-2 for ReLU and LEARN_R = 1e-1 for Tanh\n",
    "\n",
    "### Notice that, when we switch from tanh to relu activation, we decrease the learning rate. This is due the stability of the gradients \n",
    "## of the activation functions.\n",
    "\n",
    "EPOCHS = 100000\n",
    "BATCH_SIZE = 128 \n",
    "LEARN_R = 1e-2 \n",
    "\n",
    "train_loss = []\n",
    "val_loss = []\n",
    "\n",
    "for e in range(EPOCHS):\n",
    "    # Mini-batch indexes\n",
    "    idx = np.random.choice(x_train.shape[0], size=BATCH_SIZE)\n",
    "    # Forward pass\n",
    "    aff, units = forward_pass(x_train[idx,:], NN, ACT_F)\n",
    "    # Backward pass\n",
    "    g_b, g_w = backward_pass(x_train[idx,:], y_train[idx], units[-1], units, aff, NN, ACT_F, squared_error)\n",
    "    \n",
    "    # Stochastic gradient descent\n",
    "    for l in range(len(g_b)):\n",
    "        NN[0][l] -= LEARN_R*g_w[l]\n",
    "        NN[1][l] -= LEARN_R*g_b[l]\n",
    "        \n",
    "    # Training loss\n",
    "    _, units = forward_pass(x_train, NN, ACT_F)\n",
    "    # Estimate loss function\n",
    "    #print(np.max(squared_error(y_train, units[-1])))\n",
    "    train_loss.append(np.mean(squared_error(y_train, np.squeeze(units[-1]))))\n",
    "    \n",
    "    # Validation\n",
    "    # Forward pass\n",
    "    _, units = forward_pass(x_validation, NN, ACT_F)\n",
    "    # Estimate validation loss function\n",
    "    val_loss.append(np.mean(squared_error(y_validation, np.squeeze(units[-1]))))\n",
    "    \n",
    "    if e%500==0:\n",
    "        print(\"{:4d}\".format(e),\n",
    "              \"({:5.2f}%)\".format(e/EPOCHS*100), \n",
    "              \"Train loss: {:4.3f} \\t Validation loss: {:4.3f}\".format(train_loss[-1], val_loss[-1]))"
   ]
  },
  {
   "cell_type": "code",
   "execution_count": 79,
   "metadata": {
    "scrolled": true
   },
   "outputs": [
    {
     "data": {
      "image/png": "[encoded data removed]",
      "text/plain": [
       "<Figure size 432x288 with 1 Axes>"
      ]
     },
     "metadata": {
      "needs_background": "light"
     },
     "output_type": "display_data"
    }
   ],
   "source": [
    "plt.plot(range(len(train_loss)), train_loss);"
   ]
  },
  {
   "cell_type": "code",
   "execution_count": 80,
   "metadata": {
    "scrolled": true
   },
   "outputs": [
    {
     "data": {
      "image/png": "[encoded data removed]",
      "text/plain": [
       "<Figure size 432x288 with 1 Axes>"
      ]
     },
     "metadata": {
      "needs_background": "light"
     },
     "output_type": "display_data"
    }
   ],
   "source": [
    "plt.plot(range(len(val_loss)), val_loss);"
   ]
  },
  {
   "cell_type": "code",
   "execution_count": 81,
   "metadata": {},
   "outputs": [
    {
     "name": "stdout",
     "output_type": "stream",
     "text": [
      "Test loss:  0.038\n"
     ]
    },
    {
     "data": {
      "image/png": "[encoded data removed]",
      "text/plain": [
       "<Figure size 432x288 with 1 Axes>"
      ]
     },
     "metadata": {
      "needs_background": "light"
     },
     "output_type": "display_data"
    }
   ],
   "source": [
    "_, units = forward_pass(x_test, NN, ACT_F)\n",
    "\n",
    "plt.scatter(y_test, units[-1]);\n",
    "plt.plot([np.min(y_test), np.max(y_test)], [np.min(y_test), np.max(y_test)], color='k');\n",
    "plt.xlabel(\"y\");\n",
    "plt.ylabel(\"$\\hat{y}$\");\n",
    "plt.title(\"Model prediction vs real in the test set, the close to the line the better\")\n",
    "plt.grid(True);\n",
    "plt.axis('equal');\n",
    "plt.tight_layout();\n",
    "\n",
    "print(\"Test loss:  {:4.3f}\".format(np.mean(squared_error(y_test, np.squeeze(units[-1])))))"
   ]
  },
  {
   "cell_type": "code",
   "execution_count": 82,
   "metadata": {},
   "outputs": [
    {
     "data": {
      "image/png": "[encoded data removed]",
      "text/plain": [
       "<Figure size 432x288 with 1 Axes>"
      ]
     },
     "metadata": {
      "needs_background": "light"
     },
     "output_type": "display_data"
    }
   ],
   "source": [
    "if D1:\n",
    "    plt.scatter(x_train[:,0], y_train, label=\"train data\");\n",
    "    plt.scatter(x_test[:,0], units[-1], label=\"test prediction\");\n",
    "    plt.scatter(x_test[:,0], y_test, label=\"test data\");\n",
    "    plt.legend();\n",
    "    plt.xlabel(\"x\");\n",
    "    plt.ylabel(\"y\");\n",
    "else:\n",
    "    plt.scatter(x_train[:,1], y_train, label=\"train data\");\n",
    "    plt.scatter(x_test[:,1], units[-1], label=\"test data prediction\");\n",
    "    plt.scatter(x_test[:,1], y_test, label=\"test data\");\n",
    "    plt.legend();\n",
    "    plt.xlabel(\"x\");\n",
    "    plt.ylabel(\"y\");\n",
    "plt.title(\"Just right\")"
   ]
  },
  {
   "cell_type": "code",
   "execution_count": 88,
   "metadata": {},
   "outputs": [
    {
     "name": "stdout",
     "output_type": "stream",
     "text": [
      "   0 ( 0.00%) Train loss: 4.889 \t Validation loss: 5.277\n",
      " 500 ( 0.62%) Train loss: 0.033 \t Validation loss: 0.037\n",
      "1000 ( 1.25%) Train loss: 0.031 \t Validation loss: 0.037\n",
      "1500 ( 1.88%) Train loss: 0.030 \t Validation loss: 0.038\n",
      "2000 ( 2.50%) Train loss: 0.029 \t Validation loss: 0.039\n",
      "2500 ( 3.12%) Train loss: 0.031 \t Validation loss: 0.039\n",
      "3000 ( 3.75%) Train loss: 0.028 \t Validation loss: 0.039\n",
      "3500 ( 4.38%) Train loss: 0.028 \t Validation loss: 0.040\n",
      "4000 ( 5.00%) Train loss: 0.028 \t Validation loss: 0.040\n",
      "4500 ( 5.62%) Train loss: 0.028 \t Validation loss: 0.040\n",
      "5000 ( 6.25%) Train loss: 0.027 \t Validation loss: 0.042\n",
      "5500 ( 6.88%) Train loss: 0.027 \t Validation loss: 0.042\n",
      "6000 ( 7.50%) Train loss: 0.027 \t Validation loss: 0.042\n",
      "6500 ( 8.12%) Train loss: 0.027 \t Validation loss: 0.042\n",
      "7000 ( 8.75%) Train loss: 0.027 \t Validation loss: 0.043\n",
      "7500 ( 9.38%) Train loss: 0.027 \t Validation loss: 0.042\n",
      "8000 (10.00%) Train loss: 0.027 \t Validation loss: 0.044\n",
      "8500 (10.62%) Train loss: 0.027 \t Validation loss: 0.043\n",
      "9000 (11.25%) Train loss: 0.027 \t Validation loss: 0.043\n",
      "9500 (11.88%) Train loss: 0.027 \t Validation loss: 0.043\n",
      "10000 (12.50%) Train loss: 0.028 \t Validation loss: 0.043\n",
      "10500 (13.12%) Train loss: 0.027 \t Validation loss: 0.043\n",
      "11000 (13.75%) Train loss: 0.027 \t Validation loss: 0.043\n",
      "11500 (14.37%) Train loss: 0.028 \t Validation loss: 0.043\n",
      "12000 (15.00%) Train loss: 0.027 \t Validation loss: 0.043\n",
      "12500 (15.62%) Train loss: 0.027 \t Validation loss: 0.044\n",
      "13000 (16.25%) Train loss: 0.027 \t Validation loss: 0.044\n",
      "13500 (16.88%) Train loss: 0.027 \t Validation loss: 0.043\n",
      "14000 (17.50%) Train loss: 0.027 \t Validation loss: 0.043\n",
      "14500 (18.12%) Train loss: 0.027 \t Validation loss: 0.044\n",
      "15000 (18.75%) Train loss: 0.027 \t Validation loss: 0.043\n",
      "15500 (19.38%) Train loss: 0.027 \t Validation loss: 0.044\n",
      "16000 (20.00%) Train loss: 0.028 \t Validation loss: 0.044\n",
      "16500 (20.62%) Train loss: 0.028 \t Validation loss: 0.044\n",
      "17000 (21.25%) Train loss: 0.027 \t Validation loss: 0.044\n",
      "17500 (21.88%) Train loss: 0.027 \t Validation loss: 0.044\n",
      "18000 (22.50%) Train loss: 0.028 \t Validation loss: 0.044\n",
      "18500 (23.12%) Train loss: 0.028 \t Validation loss: 0.047\n",
      "19000 (23.75%) Train loss: 0.027 \t Validation loss: 0.044\n",
      "19500 (24.38%) Train loss: 0.027 \t Validation loss: 0.044\n",
      "20000 (25.00%) Train loss: 0.027 \t Validation loss: 0.044\n",
      "20500 (25.62%) Train loss: 0.026 \t Validation loss: 0.044\n",
      "21000 (26.25%) Train loss: 0.027 \t Validation loss: 0.045\n",
      "21500 (26.88%) Train loss: 0.028 \t Validation loss: 0.046\n",
      "22000 (27.50%) Train loss: 0.027 \t Validation loss: 0.045\n",
      "22500 (28.12%) Train loss: 0.027 \t Validation loss: 0.044\n",
      "23000 (28.75%) Train loss: 0.027 \t Validation loss: 0.045\n",
      "23500 (29.38%) Train loss: 0.027 \t Validation loss: 0.044\n",
      "24000 (30.00%) Train loss: 0.026 \t Validation loss: 0.044\n",
      "24500 (30.63%) Train loss: 0.028 \t Validation loss: 0.044\n",
      "25000 (31.25%) Train loss: 0.027 \t Validation loss: 0.045\n",
      "25500 (31.87%) Train loss: 0.029 \t Validation loss: 0.049\n",
      "26000 (32.50%) Train loss: 0.029 \t Validation loss: 0.049\n",
      "26500 (33.12%) Train loss: 0.029 \t Validation loss: 0.048\n",
      "27000 (33.75%) Train loss: 0.026 \t Validation loss: 0.045\n",
      "27500 (34.38%) Train loss: 0.026 \t Validation loss: 0.045\n",
      "28000 (35.00%) Train loss: 0.026 \t Validation loss: 0.044\n",
      "28500 (35.62%) Train loss: 0.026 \t Validation loss: 0.045\n",
      "29000 (36.25%) Train loss: 0.026 \t Validation loss: 0.044\n",
      "29500 (36.88%) Train loss: 0.028 \t Validation loss: 0.045\n",
      "30000 (37.50%) Train loss: 0.026 \t Validation loss: 0.044\n",
      "30500 (38.12%) Train loss: 0.026 \t Validation loss: 0.045\n",
      "31000 (38.75%) Train loss: 0.026 \t Validation loss: 0.044\n",
      "31500 (39.38%) Train loss: 0.026 \t Validation loss: 0.046\n",
      "32000 (40.00%) Train loss: 0.027 \t Validation loss: 0.045\n",
      "32500 (40.62%) Train loss: 0.026 \t Validation loss: 0.045\n",
      "33000 (41.25%) Train loss: 0.026 \t Validation loss: 0.045\n",
      "33500 (41.88%) Train loss: 0.026 \t Validation loss: 0.045\n",
      "34000 (42.50%) Train loss: 0.030 \t Validation loss: 0.047\n",
      "34500 (43.12%) Train loss: 0.026 \t Validation loss: 0.045\n",
      "35000 (43.75%) Train loss: 0.026 \t Validation loss: 0.045\n",
      "35500 (44.38%) Train loss: 0.028 \t Validation loss: 0.049\n",
      "36000 (45.00%) Train loss: 0.026 \t Validation loss: 0.045\n",
      "36500 (45.62%) Train loss: 0.027 \t Validation loss: 0.045\n",
      "37000 (46.25%) Train loss: 0.026 \t Validation loss: 0.044\n",
      "37500 (46.88%) Train loss: 0.029 \t Validation loss: 0.050\n",
      "38000 (47.50%) Train loss: 0.026 \t Validation loss: 0.046\n",
      "38500 (48.12%) Train loss: 0.028 \t Validation loss: 0.047\n",
      "39000 (48.75%) Train loss: 0.026 \t Validation loss: 0.045\n",
      "39500 (49.38%) Train loss: 0.026 \t Validation loss: 0.045\n",
      "40000 (50.00%) Train loss: 0.032 \t Validation loss: 0.050\n",
      "40500 (50.62%) Train loss: 0.026 \t Validation loss: 0.045\n",
      "41000 (51.25%) Train loss: 0.026 \t Validation loss: 0.044\n",
      "41500 (51.88%) Train loss: 0.028 \t Validation loss: 0.049\n",
      "42000 (52.50%) Train loss: 0.028 \t Validation loss: 0.049\n",
      "42500 (53.12%) Train loss: 0.026 \t Validation loss: 0.045\n",
      "43000 (53.75%) Train loss: 0.026 \t Validation loss: 0.044\n",
      "43500 (54.37%) Train loss: 0.027 \t Validation loss: 0.044\n",
      "44000 (55.00%) Train loss: 0.026 \t Validation loss: 0.044\n",
      "44500 (55.62%) Train loss: 0.026 \t Validation loss: 0.044\n",
      "45000 (56.25%) Train loss: 0.026 \t Validation loss: 0.044\n",
      "45500 (56.88%) Train loss: 0.026 \t Validation loss: 0.044\n",
      "46000 (57.50%) Train loss: 0.026 \t Validation loss: 0.043\n",
      "46500 (58.13%) Train loss: 0.026 \t Validation loss: 0.046\n",
      "47000 (58.75%) Train loss: 0.028 \t Validation loss: 0.048\n",
      "47500 (59.38%) Train loss: 0.026 \t Validation loss: 0.045\n",
      "48000 (60.00%) Train loss: 0.026 \t Validation loss: 0.044\n",
      "48500 (60.62%) Train loss: 0.027 \t Validation loss: 0.044\n",
      "49000 (61.25%) Train loss: 0.026 \t Validation loss: 0.044\n",
      "49500 (61.88%) Train loss: 0.026 \t Validation loss: 0.044\n",
      "50000 (62.50%) Train loss: 0.028 \t Validation loss: 0.048\n",
      "50500 (63.12%) Train loss: 0.027 \t Validation loss: 0.044\n",
      "51000 (63.75%) Train loss: 0.026 \t Validation loss: 0.044\n",
      "51500 (64.38%) Train loss: 0.026 \t Validation loss: 0.044\n",
      "52000 (65.00%) Train loss: 0.026 \t Validation loss: 0.043\n",
      "52500 (65.62%) Train loss: 0.027 \t Validation loss: 0.046\n",
      "53000 (66.25%) Train loss: 0.026 \t Validation loss: 0.044\n",
      "53500 (66.88%) Train loss: 0.026 \t Validation loss: 0.044\n",
      "54000 (67.50%) Train loss: 0.027 \t Validation loss: 0.047\n",
      "54500 (68.12%) Train loss: 0.028 \t Validation loss: 0.045\n",
      "55000 (68.75%) Train loss: 0.028 \t Validation loss: 0.048\n",
      "55500 (69.38%) Train loss: 0.026 \t Validation loss: 0.044\n",
      "56000 (70.00%) Train loss: 0.027 \t Validation loss: 0.046\n",
      "56500 (70.62%) Train loss: 0.031 \t Validation loss: 0.051\n",
      "57000 (71.25%) Train loss: 0.026 \t Validation loss: 0.044\n",
      "57500 (71.88%) Train loss: 0.026 \t Validation loss: 0.044\n",
      "58000 (72.50%) Train loss: 0.026 \t Validation loss: 0.045\n",
      "58500 (73.12%) Train loss: 0.026 \t Validation loss: 0.044\n",
      "59000 (73.75%) Train loss: 0.027 \t Validation loss: 0.045\n",
      "59500 (74.38%) Train loss: 0.026 \t Validation loss: 0.044\n",
      "60000 (75.00%) Train loss: 0.027 \t Validation loss: 0.046\n",
      "60500 (75.62%) Train loss: 0.028 \t Validation loss: 0.045\n",
      "61000 (76.25%) Train loss: 0.026 \t Validation loss: 0.044\n",
      "61500 (76.88%) Train loss: 0.026 \t Validation loss: 0.043\n",
      "62000 (77.50%) Train loss: 0.026 \t Validation loss: 0.044\n",
      "62500 (78.12%) Train loss: 0.026 \t Validation loss: 0.044\n",
      "63000 (78.75%) Train loss: 0.026 \t Validation loss: 0.044\n",
      "63500 (79.38%) Train loss: 0.026 \t Validation loss: 0.044\n",
      "64000 (80.00%) Train loss: 0.026 \t Validation loss: 0.045\n",
      "64500 (80.62%) Train loss: 0.026 \t Validation loss: 0.043\n",
      "65000 (81.25%) Train loss: 0.026 \t Validation loss: 0.043\n",
      "65500 (81.88%) Train loss: 0.026 \t Validation loss: 0.044\n",
      "66000 (82.50%) Train loss: 0.026 \t Validation loss: 0.043\n",
      "66500 (83.12%) Train loss: 0.026 \t Validation loss: 0.045\n",
      "67000 (83.75%) Train loss: 0.026 \t Validation loss: 0.044\n",
      "67500 (84.38%) Train loss: 0.026 \t Validation loss: 0.044\n",
      "68000 (85.00%) Train loss: 0.027 \t Validation loss: 0.045\n",
      "68500 (85.62%) Train loss: 0.026 \t Validation loss: 0.044\n",
      "69000 (86.25%) Train loss: 0.026 \t Validation loss: 0.044\n",
      "69500 (86.88%) Train loss: 0.026 \t Validation loss: 0.045\n",
      "70000 (87.50%) Train loss: 0.026 \t Validation loss: 0.044\n",
      "70500 (88.12%) Train loss: 0.027 \t Validation loss: 0.043\n"
     ]
    },
    {
     "name": "stdout",
     "output_type": "stream",
     "text": [
      "71000 (88.75%) Train loss: 0.027 \t Validation loss: 0.044\n",
      "71500 (89.38%) Train loss: 0.026 \t Validation loss: 0.044\n",
      "72000 (90.00%) Train loss: 0.026 \t Validation loss: 0.043\n",
      "72500 (90.62%) Train loss: 0.026 \t Validation loss: 0.044\n",
      "73000 (91.25%) Train loss: 0.026 \t Validation loss: 0.044\n",
      "73500 (91.88%) Train loss: 0.026 \t Validation loss: 0.044\n",
      "74000 (92.50%) Train loss: 0.026 \t Validation loss: 0.043\n",
      "74500 (93.12%) Train loss: 0.026 \t Validation loss: 0.043\n",
      "75000 (93.75%) Train loss: 0.026 \t Validation loss: 0.044\n",
      "75500 (94.38%) Train loss: 0.026 \t Validation loss: 0.045\n",
      "76000 (95.00%) Train loss: 0.026 \t Validation loss: 0.043\n",
      "76500 (95.62%) Train loss: 0.026 \t Validation loss: 0.044\n",
      "77000 (96.25%) Train loss: 0.026 \t Validation loss: 0.043\n",
      "77500 (96.88%) Train loss: 0.026 \t Validation loss: 0.043\n",
      "78000 (97.50%) Train loss: 0.027 \t Validation loss: 0.045\n",
      "78500 (98.12%) Train loss: 0.027 \t Validation loss: 0.046\n",
      "79000 (98.75%) Train loss: 0.027 \t Validation loss: 0.044\n",
      "79500 (99.38%) Train loss: 0.026 \t Validation loss: 0.043\n"
     ]
    }
   ],
   "source": [
    "# Overfitting\n",
    "\n",
    "D1 = True\n",
    "x_train, y_train,  x_validation, y_validation, x_test, y_test = data_generator(noise=0.5, D1=D1)\n",
    "\n",
    "\n",
    "#L  = [3, 16, 1]\n",
    "L  = [1, 16,16, 1]\n",
    "#NN = init_NN(L)\n",
    "\n",
    "#NN = init_NN_he_ReLU(L, uniform=True)\n",
    "\n",
    "\n",
    "# ACT_F = [ReLU, Linear, Tanh, ReLU, Linear, Sigmoid]\n",
    "# ACT_F = [Linear]*4 #\n",
    "ACT_F = [ReLU]*2+[Linear]\n",
    "\n",
    "NN = init_NN(L)\n",
    "# NN = init_NN_glorot(L,ACT_F, uniform=True)\n",
    "\n",
    "# Recommended hyper-parameters for 1-D: \n",
    "# L  = [1, 8, 1]\n",
    "# EPOCHS = 10000\n",
    "# BATCH_SIZE = 128 \n",
    "# LEARN_R = 2.5e-1 for Tanh and LEARN_R = 1e-1 for ReLU\n",
    "\n",
    "# Recommended hyper-parameters for 3-D: \n",
    "# L  = [3, 16, 1] \n",
    "# EPOCHS = 10000\n",
    "# BATCH_SIZE = 128 \n",
    "# LEARN_R = 5e-2 for ReLU and LEARN_R = 1e-1 for Tanh\n",
    "\n",
    "### Notice that, when we switch from tanh to relu activation, we decrease the learning rate. This is due the stability of the gradients \n",
    "## of the activation functions.\n",
    "\n",
    "# Initialize training hyperparameters\n",
    "EPOCHS = 80000\n",
    "BATCH_SIZE = 128\n",
    "LEARN_R = 1e-2 \n",
    "\n",
    "train_loss = []\n",
    "val_loss = []\n",
    "\n",
    "for e in range(EPOCHS):\n",
    "    # Mini-batch indexes\n",
    "    idx = np.random.choice(x_train.shape[0], size=BATCH_SIZE)\n",
    "    # Forward pass\n",
    "    aff, units = forward_pass(x_train[idx,:], NN, ACT_F)\n",
    "    # Backward pass\n",
    "    g_b, g_w = backward_pass(x_train[idx,:], y_train[idx], units[-1], units, aff, NN, ACT_F, squared_error)\n",
    "    \n",
    "    # Stochastic gradient descent\n",
    "    for l in range(len(g_b)):\n",
    "        NN[0][l] -= LEARN_R*g_w[l]\n",
    "        NN[1][l] -= LEARN_R*g_b[l]\n",
    "        \n",
    "    # Training loss\n",
    "    _, units = forward_pass(x_train, NN, ACT_F)\n",
    "    # Estimate loss function\n",
    "    #print(np.max(squared_error(y_train, units[-1])))\n",
    "    train_loss.append(np.mean(squared_error(y_train, np.squeeze(units[-1]))))\n",
    "    \n",
    "    # Validation\n",
    "    # Forward pass\n",
    "    _, units = forward_pass(x_validation, NN, ACT_F)\n",
    "    # Estimate validation loss function\n",
    "    val_loss.append(np.mean(squared_error(y_validation, np.squeeze(units[-1]))))\n",
    "    \n",
    "    if e%500==0:\n",
    "        print(\"{:4d}\".format(e),\n",
    "              \"({:5.2f}%)\".format(e/EPOCHS*100), \n",
    "              \"Train loss: {:4.3f} \\t Validation loss: {:4.3f}\".format(train_loss[-1], val_loss[-1]))"
   ]
  },
  {
   "cell_type": "code",
   "execution_count": 89,
   "metadata": {},
   "outputs": [
    {
     "data": {
      "image/png": "[encoded data removed]",
      "text/plain": [
       "<Figure size 432x288 with 1 Axes>"
      ]
     },
     "metadata": {
      "needs_background": "light"
     },
     "output_type": "display_data"
    }
   ],
   "source": [
    "plt.plot(range(len(train_loss)), train_loss);"
   ]
  },
  {
   "cell_type": "code",
   "execution_count": 90,
   "metadata": {},
   "outputs": [
    {
     "data": {
      "image/png": "[encoded data removed]",
      "text/plain": [
       "<Figure size 432x288 with 1 Axes>"
      ]
     },
     "metadata": {
      "needs_background": "light"
     },
     "output_type": "display_data"
    }
   ],
   "source": [
    "plt.plot(range(len(val_loss)), val_loss);"
   ]
  },
  {
   "cell_type": "code",
   "execution_count": 91,
   "metadata": {},
   "outputs": [
    {
     "name": "stdout",
     "output_type": "stream",
     "text": [
      "Test loss:  0.038\n"
     ]
    },
    {
     "data": {
      "image/png": "[encoded data removed]",
      "text/plain": [
       "<Figure size 432x288 with 1 Axes>"
      ]
     },
     "metadata": {
      "needs_background": "light"
     },
     "output_type": "display_data"
    }
   ],
   "source": [
    "_, units = forward_pass(x_test, NN, ACT_F)\n",
    "\n",
    "plt.scatter(y_test, units[-1]);\n",
    "plt.plot([np.min(y_test), np.max(y_test)], [np.min(y_test), np.max(y_test)], color='k');\n",
    "plt.xlabel(\"y\");\n",
    "plt.ylabel(\"$\\hat{y}$\");\n",
    "plt.title(\"Model prediction vs real in the test set, the close to the line the better\")\n",
    "plt.grid(True);\n",
    "plt.axis('equal');\n",
    "plt.tight_layout();\n",
    "\n",
    "print(\"Test loss:  {:4.3f}\".format(np.mean(squared_error(y_test, np.squeeze(units[-1])))))"
   ]
  },
  {
   "cell_type": "code",
   "execution_count": 94,
   "metadata": {},
   "outputs": [
    {
     "data": {
      "text/plain": [
       "Text(0.5, 1.0, 'Overfitting')"
      ]
     },
     "execution_count": 94,
     "metadata": {},
     "output_type": "execute_result"
    },
    {
     "data": {
      "image/png": "[encoded data removed]",
      "text/plain": [
       "<Figure size 432x288 with 1 Axes>"
      ]
     },
     "metadata": {
      "needs_background": "light"
     },
     "output_type": "display_data"
    }
   ],
   "source": [
    "if D1:\n",
    "    plt.scatter(x_train[:,0], y_train, label=\"train data\");\n",
    "    plt.scatter(x_test[:,0], units[-1], label=\"test prediction\");\n",
    "    plt.scatter(x_test[:,0], y_test, label=\"test data\");\n",
    "    plt.legend();\n",
    "    plt.xlabel(\"x\");\n",
    "    plt.ylabel(\"y\");\n",
    "else:\n",
    "    plt.scatter(x_train[:,1], y_train, label=\"train data\");\n",
    "    plt.scatter(x_test[:,1], units[-1], label=\"test data prediction\");\n",
    "    plt.scatter(x_test[:,1], y_test, label=\"test data\");\n",
    "    plt.legend();\n",
    "    plt.xlabel(\"x\");\n",
    "    plt.ylabel(\"y\");\n",
    "plt.title(\"Overfitting\")"
   ]
  },
  {
   "cell_type": "markdown",
   "metadata": {},
   "source": [
    "# Next steps - classification\n",
    "\n",
    "It is straight forward to extend what we have done to classification. \n",
    "\n",
    "For numerical stability it is better to make softmax and cross-entropy as one function so we write the cross entropy loss as a function of the logits we talked about last week. \n",
    "\n",
    "Next week we will see how to perform classification in PyTorch."
   ]
  },
  {
   "cell_type": "markdown",
   "metadata": {},
   "source": [
    "## Exercise h) optional - Implement backpropagation for classification\n",
    "\n",
    "Should be possible with very few lines of code. :-)"
   ]
  },
  {
   "cell_type": "code",
   "execution_count": null,
   "metadata": {
    "collapsed": true
   },
   "outputs": [],
   "source": [
    "# Just add code."
   ]
  }
 ],
 "metadata": {
  "anaconda-cloud": {},
  "kernelspec": {
   "display_name": "Python 3",
   "language": "python",
   "name": "python3"
  },
  "language_info": {
   "codemirror_mode": {
    "name": "ipython",
    "version": 3
   },
   "file_extension": ".py",
   "mimetype": "text/x-python",
   "name": "python",
   "nbconvert_exporter": "python",
   "pygments_lexer": "ipython3",
   "version": "3.7.3"
  }
 },
 "nbformat": 4,
 "nbformat_minor": 4
}
